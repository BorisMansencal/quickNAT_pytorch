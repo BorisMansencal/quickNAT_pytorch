{
 "cells": [
  {
   "cell_type": "markdown",
   "metadata": {},
   "source": [
    "## Train QuickNAT\n",
    "Working code! Details coming soon!"
   ]
  },
  {
   "cell_type": "code",
   "execution_count": 22,
   "metadata": {
    "collapsed": true
   },
   "outputs": [
    {
     "name": "stdout",
     "output_type": "stream",
     "text": [
      "The autoreload extension is already loaded. To reload it, use:\n",
      "  %reload_ext autoreload\n"
     ]
    }
   ],
   "source": [
    "import numpy as np\n",
    "import matplotlib.pyplot as plt\n",
    "import torch\n",
    "from torch.autograd import Variable\n",
    "\n",
    "from quickNat_pytorch.quickNAT import quickNAT\n",
    "from quickNat_pytorch.data_utils import get_data\n",
    "\n",
    "from quickNat_pytorch.net_api import squeeze_excitation as se\n",
    "\n",
    "#torch.set_default_tensor_type('torch.FloatTensor')\n",
    "%matplotlib inline\n",
    "# for auto-reloading external modules\n",
    "# see http://stackoverflow.com/questions/1907993/autoreload-of-modules-in-ipython\n",
    "%load_ext autoreload\n",
    "%autoreload 2\n",
    "\n",
    "plt.rcParams['figure.figsize'] = (10.0, 8.0) # set default size of plots\n",
    "plt.rcParams['image.interpolation'] = 'nearest'\n",
    "plt.rcParams['image.cmap'] = 'gray'\n",
    "\n",
    "\n",
    "\n",
    "params ={\n",
    "    'data' : {\n",
    "        'base_dir' : \"datasets/coronal\",\n",
    "        'train_data_file' : \"Data_train.h5\", \n",
    "        'train_label_file' : \"Label_train.h5\",\n",
    "        'train_class_weights_file' : \"Class_Weight_train.h5\",        \n",
    "        'train_weights_file' : \"Weight_train.h5\",                \n",
    "        'test_data_file' : \"Data_test.h5\", \n",
    "        'test_label_file' : \"Label_test.h5\",         \n",
    "        'test_class_weights_file' : \"Class_Weight_test.h5\",       \n",
    "        'test_weights_file' : \"Weight_test.h5\",\n",
    "        'labels' : ['Background','Left WM','Left Cortex','Left Lateral ventricle','Left Inf LatVentricle','Left Cerebellum WM','Left Cerebellum Cortex',\n",
    "                    'Left Thalamus','Left Caudate','Left Putamen','Left Pallidum','3rd Ventricle','4th Ventricle','Brain Stem','Left Hippocampus',\n",
    "                    'Left Amygdala','CSF (Cranial)','Left Accumbens','Left Ventral DC','Right WM','Right Cortex','Right Lateral Ventricle',\n",
    "                    'Right Inf LatVentricle','Right Cerebellum WM','Right Cerebellum Cortex','Right Thalamus','Right Caudate','Right Putamen',\n",
    "                    'Right Pallidum','Right Hippocampus','Right Amygdala','Right Accumbens','Right Ventral DC']\n",
    "    },\n",
    "    'network' : { \n",
    "        'num_class': 33,\n",
    "        'num_channels':1,\n",
    "        'num_filters':64,\n",
    "        'kernel_h':5,\n",
    "        'kernel_w':5,\n",
    "        'kernel_c': 1,\n",
    "        'stride_conv':1,\n",
    "        'pool':2,\n",
    "        'stride_pool':2,\n",
    "        'se_block' : se.SELayer.NONE, # Valid options : se.SELayer.NONE, se.SELayer.CSE, se.SELayer.SSE, se.SELayer.CSSE\n",
    "        'drop_out' : 0 # Keep 0 for no dropout        \n",
    "    },\n",
    "    'training' : {\n",
    "        'learning_rate': 1e-2,\n",
    "        'train_batch_size': 2,\n",
    "        'val_batch_size': 5,\n",
    "        'log_nth': 50,\n",
    "        'num_epochs': 10,\n",
    "        'lr_scheduler_step_size': 5,\n",
    "        'lr_scheduler_gamma' : 0.5,\n",
    "        'exp_dir_name': 'Exp02_try3',\n",
    "        'final_model_path': 'models/quicknat_model.model', \n",
    "    }\n",
    "}\n",
    "\n",
    "train_params, net_params, data_params = params['training'], params['network'], params['data']"
   ]
  },
  {
   "cell_type": "markdown",
   "metadata": {},
   "source": [
    "## Load Data"
   ]
  },
  {
   "cell_type": "code",
   "execution_count": 23,
   "metadata": {},
   "outputs": [
    {
     "name": "stdout",
     "output_type": "stream",
     "text": [
      "Train size: 1320\n",
      "Test size: 1320\n"
     ]
    }
   ],
   "source": [
    "train_data, test_data = get_data(data_params)\n",
    "print(\"Train size: %i\" % len(train_data))\n",
    "print(\"Test size: %i\" % len(test_data))"
   ]
  },
  {
   "cell_type": "markdown",
   "metadata": {},
   "source": [
    "## Train Model"
   ]
  },
  {
   "cell_type": "code",
   "execution_count": 24,
   "metadata": {
    "scrolled": false
   },
   "outputs": [
    {
     "name": "stdout",
     "output_type": "stream",
     "text": [
      "33\n",
      "START TRAIN.\n",
      "1\n",
      "torch.Size([131072, 33]) torch.Size([131072])\n",
      "1\n",
      "torch.Size([131072, 33]) torch.Size([131072])\n",
      "1\n",
      "torch.Size([131072, 33]) torch.Size([131072])\n",
      "1\n",
      "torch.Size([131072, 33]) torch.Size([131072])\n",
      "1\n",
      "torch.Size([131072, 33]) torch.Size([131072])\n",
      "1\n",
      "torch.Size([131072, 33]) torch.Size([131072])\n",
      "1\n",
      "torch.Size([131072, 33]) torch.Size([131072])\n",
      "1\n",
      "torch.Size([131072, 33]) torch.Size([131072])\n",
      "1\n",
      "torch.Size([131072, 33]) torch.Size([131072])\n",
      "1\n",
      "torch.Size([131072, 33]) torch.Size([131072])\n",
      "1\n",
      "torch.Size([131072, 33]) torch.Size([131072])\n",
      "1\n",
      "torch.Size([131072, 33]) torch.Size([131072])\n",
      "1\n",
      "torch.Size([131072, 33]) torch.Size([131072])\n",
      "1\n",
      "torch.Size([131072, 33]) torch.Size([131072])\n",
      "1\n",
      "torch.Size([131072, 33]) torch.Size([131072])\n",
      "1\n",
      "torch.Size([131072, 33]) torch.Size([131072])\n",
      "1\n",
      "torch.Size([131072, 33]) torch.Size([131072])\n",
      "1\n",
      "torch.Size([131072, 33]) torch.Size([131072])\n",
      "1\n",
      "torch.Size([131072, 33]) torch.Size([131072])\n",
      "1\n",
      "torch.Size([131072, 33]) torch.Size([131072])\n",
      "1\n",
      "torch.Size([131072, 33]) torch.Size([131072])\n",
      "1\n",
      "torch.Size([131072, 33]) torch.Size([131072])\n",
      "1\n",
      "torch.Size([131072, 33]) torch.Size([131072])\n",
      "1\n",
      "torch.Size([131072, 33]) torch.Size([131072])\n",
      "1\n",
      "torch.Size([131072, 33]) torch.Size([131072])\n",
      "1\n",
      "torch.Size([131072, 33]) torch.Size([131072])\n",
      "1\n",
      "torch.Size([131072, 33]) torch.Size([131072])\n",
      "1\n",
      "torch.Size([131072, 33]) torch.Size([131072])\n",
      "1\n",
      "torch.Size([131072, 33]) torch.Size([131072])\n",
      "1\n",
      "torch.Size([131072, 33]) torch.Size([131072])\n",
      "1\n",
      "torch.Size([131072, 33]) torch.Size([131072])\n",
      "1\n",
      "torch.Size([131072, 33]) torch.Size([131072])\n",
      "1\n",
      "torch.Size([131072, 33]) torch.Size([131072])\n",
      "1\n",
      "torch.Size([131072, 33]) torch.Size([131072])\n",
      "1\n",
      "torch.Size([131072, 33]) torch.Size([131072])\n"
     ]
    },
    {
     "name": "stderr",
     "output_type": "stream",
     "text": [
      "Process Process-32:\n",
      "Process Process-31:\n",
      "Traceback (most recent call last):\n",
      "KeyboardInterrupt\n",
      "Traceback (most recent call last):\n",
      "  File \"/home/masterthesis/anaconda3/lib/python3.6/multiprocessing/process.py\", line 258, in _bootstrap\n",
      "    self.run()\n"
     ]
    },
    {
     "ename": "KeyboardInterrupt",
     "evalue": "",
     "output_type": "error",
     "traceback": [
      "\u001b[0;31m---------------------------------------------------------------------------\u001b[0m",
      "\u001b[0;31mKeyboardInterrupt\u001b[0m                         Traceback (most recent call last)",
      "\u001b[0;32m<ipython-input-24-da66d8aa7535>\u001b[0m in \u001b[0;36m<module>\u001b[0;34m()\u001b[0m\n\u001b[1;32m     12\u001b[0m              \u001b[0mexp_dir_name\u001b[0m\u001b[0;34m=\u001b[0m\u001b[0mtrain_params\u001b[0m\u001b[0;34m[\u001b[0m\u001b[0;34m'exp_dir_name'\u001b[0m\u001b[0;34m]\u001b[0m\u001b[0;34m,\u001b[0m\u001b[0;34m\u001b[0m\u001b[0m\n\u001b[1;32m     13\u001b[0m              \u001b[0mlr_scheduler_step_size\u001b[0m \u001b[0;34m=\u001b[0m \u001b[0mtrain_params\u001b[0m\u001b[0;34m[\u001b[0m\u001b[0;34m'lr_scheduler_step_size'\u001b[0m\u001b[0;34m]\u001b[0m\u001b[0;34m,\u001b[0m\u001b[0;34m\u001b[0m\u001b[0m\n\u001b[0;32m---> 14\u001b[0;31m              lr_scheduler_gamma = train_params['lr_scheduler_gamma'])\n\u001b[0m",
      "\u001b[0;32m~/shayan/quickNat_pytorch/quickNat_pytorch/solver.py\u001b[0m in \u001b[0;36mtrain\u001b[0;34m(self, model, train_loader, val_loader, num_epochs, log_nth, exp_dir_name, lr_scheduler_step_size, lr_scheduler_gamma)\u001b[0m\n\u001b[1;32m    120\u001b[0m \u001b[0;34m\u001b[0m\u001b[0m\n\u001b[1;32m    121\u001b[0m                     \u001b[0;32mwith\u001b[0m \u001b[0mtorch\u001b[0m\u001b[0;34m.\u001b[0m\u001b[0mno_grad\u001b[0m\u001b[0;34m(\u001b[0m\u001b[0;34m)\u001b[0m\u001b[0;34m:\u001b[0m\u001b[0;34m\u001b[0m\u001b[0m\n\u001b[0;32m--> 122\u001b[0;31m                         \u001b[0mself\u001b[0m\u001b[0;34m.\u001b[0m\u001b[0mlogWriter\u001b[0m\u001b[0;34m.\u001b[0m\u001b[0mupdate_cm_per_iter\u001b[0m\u001b[0;34m(\u001b[0m\u001b[0mmodel\u001b[0m\u001b[0;34m(\u001b[0m\u001b[0mX\u001b[0m\u001b[0;34m)\u001b[0m\u001b[0;34m.\u001b[0m\u001b[0mdata\u001b[0m\u001b[0;34m.\u001b[0m\u001b[0msqueeze\u001b[0m\u001b[0;34m(\u001b[0m\u001b[0;34m)\u001b[0m\u001b[0;34m,\u001b[0m \u001b[0my\u001b[0m\u001b[0;34m.\u001b[0m\u001b[0mtype\u001b[0m\u001b[0;34m(\u001b[0m\u001b[0mtorch\u001b[0m\u001b[0;34m.\u001b[0m\u001b[0mLongTensor\u001b[0m\u001b[0;34m)\u001b[0m\u001b[0;34m,\u001b[0m \u001b[0mself\u001b[0m\u001b[0;34m.\u001b[0m\u001b[0mlabels\u001b[0m\u001b[0;34m,\u001b[0m \u001b[0mphase\u001b[0m\u001b[0;34m)\u001b[0m\u001b[0;34m\u001b[0m\u001b[0m\n\u001b[0m\u001b[1;32m    123\u001b[0m \u001b[0;34m\u001b[0m\u001b[0m\n\u001b[1;32m    124\u001b[0m                 \u001b[0;32mif\u001b[0m \u001b[0mwas_training\u001b[0m\u001b[0;34m:\u001b[0m\u001b[0;34m\u001b[0m\u001b[0m\n",
      "\u001b[0;31mKeyboardInterrupt\u001b[0m: "
     ]
    },
    {
     "name": "stderr",
     "output_type": "stream",
     "text": [
      "  File \"/home/masterthesis/anaconda3/lib/python3.6/multiprocessing/process.py\", line 258, in _bootstrap\n",
      "    self.run()\n",
      "  File \"/home/masterthesis/anaconda3/lib/python3.6/multiprocessing/process.py\", line 93, in run\n",
      "    self._target(*self._args, **self._kwargs)\n",
      "  File \"/home/masterthesis/anaconda3/lib/python3.6/multiprocessing/process.py\", line 93, in run\n",
      "    self._target(*self._args, **self._kwargs)\n",
      "  File \"/home/masterthesis/anaconda3/lib/python3.6/site-packages/torch/utils/data/dataloader.py\", line 96, in _worker_loop\n",
      "    r = index_queue.get(timeout=MANAGER_STATUS_CHECK_INTERVAL)\n",
      "  File \"/home/masterthesis/anaconda3/lib/python3.6/site-packages/torch/utils/data/dataloader.py\", line 96, in _worker_loop\n",
      "    r = index_queue.get(timeout=MANAGER_STATUS_CHECK_INTERVAL)\n"
     ]
    },
    {
     "data": {
      "text/plain": [
       "<matplotlib.figure.Figure at 0x7fb4c06d24a8>"
      ]
     },
     "metadata": {},
     "output_type": "display_data"
    },
    {
     "name": "stderr",
     "output_type": "stream",
     "text": [
      "  File \"/home/masterthesis/anaconda3/lib/python3.6/multiprocessing/queues.py\", line 104, in get\n",
      "    if not self._poll(timeout):\n",
      "  File \"/home/masterthesis/anaconda3/lib/python3.6/multiprocessing/queues.py\", line 104, in get\n",
      "    if not self._poll(timeout):\n",
      "  File \"/home/masterthesis/anaconda3/lib/python3.6/multiprocessing/connection.py\", line 257, in poll\n",
      "    return self._poll(timeout)\n",
      "  File \"/home/masterthesis/anaconda3/lib/python3.6/multiprocessing/connection.py\", line 257, in poll\n",
      "    return self._poll(timeout)\n",
      "  File \"/home/masterthesis/anaconda3/lib/python3.6/multiprocessing/connection.py\", line 414, in _poll\n",
      "    r = wait([self], timeout)\n",
      "  File \"/home/masterthesis/anaconda3/lib/python3.6/multiprocessing/connection.py\", line 414, in _poll\n",
      "    r = wait([self], timeout)\n",
      "  File \"/home/masterthesis/anaconda3/lib/python3.6/multiprocessing/connection.py\", line 911, in wait\n",
      "    ready = selector.select(timeout)\n",
      "  File \"/home/masterthesis/anaconda3/lib/python3.6/selectors.py\", line 376, in select\n",
      "    fd_event_list = self._poll.poll(timeout)\n",
      "  File \"/home/masterthesis/anaconda3/lib/python3.6/multiprocessing/connection.py\", line 911, in wait\n",
      "    ready = selector.select(timeout)\n",
      "KeyboardInterrupt\n",
      "  File \"/home/masterthesis/anaconda3/lib/python3.6/selectors.py\", line 376, in select\n",
      "    fd_event_list = self._poll.poll(timeout)\n",
      "Process Process-29:\n",
      "Traceback (most recent call last):\n",
      "Process Process-30:\n",
      "  File \"/home/masterthesis/anaconda3/lib/python3.6/multiprocessing/process.py\", line 258, in _bootstrap\n",
      "    self.run()\n",
      "  File \"/home/masterthesis/anaconda3/lib/python3.6/multiprocessing/process.py\", line 93, in run\n",
      "    self._target(*self._args, **self._kwargs)\n",
      "  File \"/home/masterthesis/anaconda3/lib/python3.6/site-packages/torch/utils/data/dataloader.py\", line 96, in _worker_loop\n",
      "    r = index_queue.get(timeout=MANAGER_STATUS_CHECK_INTERVAL)\n",
      "  File \"/home/masterthesis/anaconda3/lib/python3.6/multiprocessing/queues.py\", line 104, in get\n",
      "    if not self._poll(timeout):\n",
      "Traceback (most recent call last):\n",
      "  File \"/home/masterthesis/anaconda3/lib/python3.6/multiprocessing/connection.py\", line 257, in poll\n",
      "    return self._poll(timeout)\n",
      "  File \"/home/masterthesis/anaconda3/lib/python3.6/multiprocessing/process.py\", line 258, in _bootstrap\n",
      "    self.run()\n",
      "  File \"/home/masterthesis/anaconda3/lib/python3.6/multiprocessing/connection.py\", line 414, in _poll\n",
      "    r = wait([self], timeout)\n",
      "  File \"/home/masterthesis/anaconda3/lib/python3.6/multiprocessing/connection.py\", line 911, in wait\n",
      "    ready = selector.select(timeout)\n",
      "  File \"/home/masterthesis/anaconda3/lib/python3.6/multiprocessing/process.py\", line 93, in run\n",
      "    self._target(*self._args, **self._kwargs)\n",
      "  File \"/home/masterthesis/anaconda3/lib/python3.6/site-packages/torch/utils/data/dataloader.py\", line 96, in _worker_loop\n",
      "    r = index_queue.get(timeout=MANAGER_STATUS_CHECK_INTERVAL)\n",
      "  File \"/home/masterthesis/anaconda3/lib/python3.6/selectors.py\", line 376, in select\n",
      "    fd_event_list = self._poll.poll(timeout)\n",
      "KeyboardInterrupt\n",
      "  File \"/home/masterthesis/anaconda3/lib/python3.6/multiprocessing/queues.py\", line 104, in get\n",
      "    if not self._poll(timeout):\n",
      "  File \"/home/masterthesis/anaconda3/lib/python3.6/multiprocessing/connection.py\", line 257, in poll\n",
      "    return self._poll(timeout)\n",
      "  File \"/home/masterthesis/anaconda3/lib/python3.6/multiprocessing/connection.py\", line 414, in _poll\n",
      "    r = wait([self], timeout)\n",
      "  File \"/home/masterthesis/anaconda3/lib/python3.6/multiprocessing/connection.py\", line 911, in wait\n",
      "    ready = selector.select(timeout)\n",
      "  File \"/home/masterthesis/anaconda3/lib/python3.6/selectors.py\", line 376, in select\n",
      "    fd_event_list = self._poll.poll(timeout)\n",
      "KeyboardInterrupt\n"
     ]
    }
   ],
   "source": [
    "from quickNat_pytorch.quickNAT import quickNAT\n",
    "from quickNat_pytorch.solver import Solver\n",
    "\n",
    "train_loader = torch.utils.data.DataLoader(train_data, batch_size=train_params['train_batch_size'], shuffle=True, num_workers=4)\n",
    "val_loader = torch.utils.data.DataLoader(test_data, batch_size=train_params['val_batch_size'], shuffle=False, num_workers=4)\n",
    "\n",
    "quicknat_model = quickNAT(params['network'])\n",
    "solver = Solver(optim_args={\"lr\": train_params['learning_rate']}, labels = params['data']['labels'])\n",
    "solver.train(quicknat_model, train_loader, val_loader, \n",
    "             log_nth=train_params['log_nth'], \n",
    "             num_epochs=train_params['num_epochs'], \n",
    "             exp_dir_name=train_params['exp_dir_name'], \n",
    "             lr_scheduler_step_size = train_params['lr_scheduler_step_size'], \n",
    "             lr_scheduler_gamma = train_params['lr_scheduler_gamma'])"
   ]
  },
  {
   "cell_type": "markdown",
   "metadata": {},
   "source": [
    "## Save the Model\n",
    "\n",
    "When you are satisfied with your training, you can save the model."
   ]
  },
  {
   "cell_type": "code",
   "execution_count": 15,
   "metadata": {},
   "outputs": [
    {
     "name": "stdout",
     "output_type": "stream",
     "text": [
      "Saving model... models/Exp02_try3/quicknat_model.model\n"
     ]
    }
   ],
   "source": [
    "quicknat_model.save(train_params['final_model_path'])"
   ]
  },
  {
   "cell_type": "markdown",
   "metadata": {},
   "source": [
    "## Deploy Model on Test Data"
   ]
  },
  {
   "cell_type": "code",
   "execution_count": 15,
   "metadata": {},
   "outputs": [
    {
     "name": "stdout",
     "output_type": "stream",
     "text": [
      "[  0.   1.   2.   3.   4.   5.   6.   7.   8.   9.  10.  11.  12.  13.  14.\n",
      "  15.  16.  17.  18.  19.  20.  21.  22.  23.  24.  25.  26.  27.  28.  29.\n",
      "  30.  31.  32.]\n"
     ]
    },
    {
     "data": {
      "image/png": "[encoded data removed]",
      "text/plain": [
       "<matplotlib.figure.Figure at 0x7fca802cd3c8>"
      ]
     },
     "metadata": {},
     "output_type": "display_data"
    }
   ],
   "source": [
    "import matplotlib.pyplot as plt\n",
    "\n",
    "# quick_model = torch.load(train_params['final_model_path'])\n",
    "# quick_model = quick_model.eval()\n",
    "# with torch.no_grad():\n",
    "#     test_input = Variable(torch.Tensor(test_data.X[200:201]).cuda())\n",
    "# #quick_model.enable_test_dropout()\n",
    "# out = quick_model(test_input)\n",
    "# max_val, idx = torch.max(out,1)\n",
    "# idx = idx.data.cpu().numpy()\n",
    "# idx = np.squeeze(idx)\n",
    "# plt.imshow(idx)\n",
    "# plt.show()\n",
    "\n",
    "print(np.unique(test_data.y))\n",
    "img_test = test_data.y[201:202]\n",
    "img_test = np.squeeze(img_test)\n",
    "plt.imshow(img_test)\n",
    "plt.show()"
   ]
  },
  {
   "cell_type": "code",
   "execution_count": null,
   "metadata": {},
   "outputs": [],
   "source": []
  }
 ],
 "metadata": {
  "kernelspec": {
   "display_name": "Python 3",
   "language": "python",
   "name": "python3"
  },
  "language_info": {
   "codemirror_mode": {
    "name": "ipython",
    "version": 3
   },
   "file_extension": ".py",
   "mimetype": "text/x-python",
   "name": "python",
   "nbconvert_exporter": "python",
   "pygments_lexer": "ipython3",
   "version": "3.6.3"
  }
 },
 "nbformat": 4,
 "nbformat_minor": 2
}
