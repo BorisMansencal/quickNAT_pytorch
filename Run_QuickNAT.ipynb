{
 "cells": [
  {
   "cell_type": "markdown",
   "metadata": {},
   "source": [
    "## Train QuickNAT\n",
    "Working code! Details coming soon!"
   ]
  },
  {
   "cell_type": "code",
   "execution_count": 81,
   "metadata": {
    "collapsed": true
   },
   "outputs": [
    {
     "name": "stdout",
     "output_type": "stream",
     "text": [
      "The autoreload extension is already loaded. To reload it, use:\n",
      "  %reload_ext autoreload\n"
     ]
    }
   ],
   "source": [
    "import numpy as np\n",
    "import matplotlib.pyplot as plt\n",
    "import torch\n",
    "from torch.autograd import Variable\n",
    "\n",
    "from quickNat_pytorch.quickNAT import quickNAT\n",
    "from quickNat_pytorch.data_utils import get_imdb_data\n",
    "\n",
    "#torch.set_default_tensor_type('torch.FloatTensor')\n",
    "%matplotlib inline\n",
    "plt.rcParams['figure.figsize'] = (10.0, 8.0) # set default size of plots\n",
    "plt.rcParams['image.interpolation'] = 'nearest'\n",
    "plt.rcParams['image.cmap'] = 'gray'\n",
    "\n",
    "# for auto-reloading external modules\n",
    "# see http://stackoverflow.com/questions/1907993/autoreload-of-modules-in-ipython\n",
    "%load_ext autoreload\n",
    "%autoreload 2"
   ]
  },
  {
   "cell_type": "code",
   "execution_count": 55,
   "metadata": {},
   "outputs": [
    {
     "name": "stdout",
     "output_type": "stream",
     "text": [
      "(3240, 256, 256)\n",
      "27.0\n",
      "0.0\n",
      "Train size: 1890\n",
      "Test size: 1350\n"
     ]
    }
   ],
   "source": [
    "train_data, test_data = get_imdb_data()\n",
    "print(\"Train size: %i\" % len(train_data))\n",
    "print(\"Test size: %i\" % len(test_data))"
   ]
  },
  {
   "cell_type": "code",
   "execution_count": null,
   "metadata": {
    "scrolled": false
   },
   "outputs": [],
   "source": [
    "from quickNat_pytorch.quickNAT import quickNAT\n",
    "from quickNat_pytorch.solver import Solver\n",
    "\n",
    "\n",
    "train_loader = torch.utils.data.DataLoader(train_data, batch_size=2, shuffle=True, num_workers=4)\n",
    "val_loader = torch.utils.data.DataLoader(test_data, batch_size=2, shuffle=False, num_workers=4)\n",
    "\n",
    "param ={\n",
    "        'num_channels':1,\n",
    "        'num_filters':64,\n",
    "        'kernel_h':5,\n",
    "        'kernel_w':5,\n",
    "        'kernel_c': 1,\n",
    "        'stride_conv':1,\n",
    "        'pool':2,\n",
    "        'stride_pool':2,\n",
    "        'num_class':28,\n",
    "        'se_block' : True,\n",
    "        'drop_out' : 0.2\n",
    "    }\n",
    "\n",
    "exp_dir_name = 'Exp02_try3'\n",
    "\n",
    "quicknat_model = quickNAT(param)\n",
    "solver = Solver(optim_args={\"lr\": 1e-2})\n",
    "solver.train(quicknat_model, train_loader, val_loader, log_nth=1, num_epochs=10, exp_dir_name=exp_dir_name)"
   ]
  },
  {
   "cell_type": "markdown",
   "metadata": {},
   "source": [
    "## Save the Model\n",
    "\n",
    "When you are satisfied with your training, you can save the model."
   ]
  },
  {
   "cell_type": "code",
   "execution_count": 71,
   "metadata": {},
   "outputs": [
    {
     "name": "stdout",
     "output_type": "stream",
     "text": [
      "Saving model... models/Exp02_try3/quicknat_model.model\n"
     ]
    }
   ],
   "source": [
    "quicknat_model.save(\"models/Exp02_try3/quicknat_model.model\")"
   ]
  },
  {
   "cell_type": "markdown",
   "metadata": {},
   "source": [
    "# Deploy Model on Test Data"
   ]
  },
  {
   "cell_type": "code",
   "execution_count": 72,
   "metadata": {},
   "outputs": [
    {
     "data": {
      "text/plain": [
       "(1350, 1, 256, 256)"
      ]
     },
     "execution_count": 72,
     "metadata": {},
     "output_type": "execute_result"
    }
   ],
   "source": [
    "test_data.X.shape"
   ]
  },
  {
   "cell_type": "code",
   "execution_count": 86,
   "metadata": {},
   "outputs": [
    {
     "data": {
      "image/png": "[encoded data removed]",
      "text/plain": [
       "<matplotlib.figure.Figure at 0x7f7dde791668>"
      ]
     },
     "metadata": {},
     "output_type": "display_data"
    },
    {
     "data": {
      "image/png": "[encoded data removed]",
      "text/plain": [
       "<matplotlib.figure.Figure at 0x7f7d78a668d0>"
      ]
     },
     "metadata": {},
     "output_type": "display_data"
    }
   ],
   "source": [
    "import matplotlib.pyplot as plt\n",
    "\n",
    "quick_model = torch.load('models/Exp02_try3/quicknat_epoch1.model')\n",
    "quick_model = quick_model.eval()\n",
    "with torch.no_grad():\n",
    "    test_input = Variable(torch.Tensor(test_data.X[200:201]).cuda())\n",
    "quick_model.enable_test_dropout()\n",
    "out = quick_model(test_input)\n",
    "max_val, idx = torch.max(out,1)\n",
    "idx = idx.data.cpu().numpy()\n",
    "idx = np.squeeze(idx)\n",
    "plt.imshow(idx)\n",
    "plt.show()\n",
    "\n",
    "img_test = test_data.y[200:201]\n",
    "img_test = np.squeeze(img_test)\n",
    "plt.imshow(img_test)\n",
    "plt.show()"
   ]
  },
  {
   "cell_type": "code",
   "execution_count": null,
   "metadata": {},
   "outputs": [],
   "source": []
  }
 ],
 "metadata": {
  "kernelspec": {
   "display_name": "Python 3",
   "language": "python",
   "name": "python3"
  },
  "language_info": {
   "codemirror_mode": {
    "name": "ipython",
    "version": 3
   },
   "file_extension": ".py",
   "mimetype": "text/x-python",
   "name": "python",
   "nbconvert_exporter": "python",
   "pygments_lexer": "ipython3",
   "version": "3.6.3"
  }
 },
 "nbformat": 4,
 "nbformat_minor": 2
}
