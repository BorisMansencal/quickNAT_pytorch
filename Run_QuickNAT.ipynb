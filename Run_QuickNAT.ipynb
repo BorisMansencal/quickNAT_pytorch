{
 "cells": [
  {
   "cell_type": "markdown",
   "metadata": {},
   "source": [
    "## Train QuickNAT\n",
    "Working code! Details coming soon!"
   ]
  },
  {
   "cell_type": "code",
   "execution_count": 47,
   "metadata": {
    "collapsed": true
   },
   "outputs": [
    {
     "name": "stdout",
     "output_type": "stream",
     "text": [
      "The autoreload extension is already loaded. To reload it, use:\n",
      "  %reload_ext autoreload\n"
     ]
    }
   ],
   "source": [
    "import numpy as np\n",
    "import matplotlib.pyplot as plt\n",
    "import torch\n",
    "from torch.autograd import Variable\n",
    "\n",
    "from quickNat_pytorch.quickNAT import quickNAT\n",
    "from quickNat_pytorch.data_utils import get_data\n",
    "\n",
    "from quickNat_pytorch.net_api import squeeze_excitation as se\n",
    "\n",
    "#torch.set_default_tensor_type('torch.FloatTensor')\n",
    "%matplotlib inline\n",
    "# for auto-reloading external modules\n",
    "# see http://stackoverflow.com/questions/1907993/autoreload-of-modules-in-ipython\n",
    "%load_ext autoreload\n",
    "%autoreload 2\n",
    "\n",
    "plt.rcParams['figure.figsize'] = (10.0, 8.0) # set default size of plots\n",
    "plt.rcParams['image.interpolation'] = 'nearest'\n",
    "plt.rcParams['image.cmap'] = 'gray'\n",
    "\n",
    "params ={\n",
    "    'data' : {\n",
    "        'base_dir' : \"datasets/coronal\",\n",
    "        'train_data_file' : \"Data_train.h5\", \n",
    "        'train_label_file' : \"Label_train.h5\",\n",
    "        'train_class_weights_file' : \"Class_Weight_train.h5\",        \n",
    "        'train_weights_file' : \"Weight_train.h5\",                \n",
    "        'test_data_file' : \"Data_test.h5\", \n",
    "        'test_label_file' : \"Label_test.h5\",         \n",
    "        'test_class_weights_file' : \"Class_Weight_test.h5\",       \n",
    "        'test_weights_file' : \"Weight_test.h5\",\n",
    "        'labels' : ['Background','Left WM','Left Cortex','Left Lateral ventricle','Left Inf LatVentricle','Left Cerebellum WM','Left Cerebellum Cortex',\n",
    "                    'Left Thalamus','Left Caudate','Left Putamen','Left Pallidum','3rd Ventricle','4th Ventricle','Brain Stem','Left Hippocampus',\n",
    "                    'Left Amygdala','CSF (Cranial)','Left Accumbens','Left Ventral DC','Right WM','Right Cortex','Right Lateral Ventricle',\n",
    "                    'Right Inf LatVentricle','Right Cerebellum WM','Right Cerebellum Cortex','Right Thalamus','Right Caudate','Right Putamen',\n",
    "                    'Right Pallidum','Right Hippocampus','Right Amygdala','Right Accumbens','Right Ventral DC']\n",
    "    },\n",
    "    'network' : { \n",
    "        'num_class': 33,\n",
    "        'num_channels':1,\n",
    "        'num_filters':64,\n",
    "        'kernel_h':5,\n",
    "        'kernel_w':5,\n",
    "        'kernel_c': 1,\n",
    "        'stride_conv':1,\n",
    "        'pool':2,\n",
    "        'stride_pool':2,\n",
    "        'se_block' : se.SELayer.NONE, # Valid options : se.SELayer.NONE, se.SELayer.CSE, se.SELayer.SSE, se.SELayer.CSSE\n",
    "        'drop_out' : 0 # Keep 0 for no dropout        \n",
    "    },\n",
    "    'training' : {\n",
    "        'model_name' : 'quicknat',\n",
    "        'learning_rate': 1e-2,\n",
    "        'train_batch_size': 2,\n",
    "        'val_batch_size': 5,\n",
    "        'log_nth': 50,\n",
    "        'num_epochs': 10,\n",
    "        'lr_scheduler_step_size': 5,\n",
    "        'lr_scheduler_gamma' : 0.5,\n",
    "        'exp_dir_name': 'Exp02_try3',\n",
    "        'final_model_path': 'models/quicknat_model.model',\n",
    "        'use_last_checkpoint':True #Uses the last checkpoint file from the exp_dir_name folder\n",
    "    }\n",
    "}\n",
    "\n",
    "train_params, net_params, data_params = params['training'], params['network'], params['data']"
   ]
  },
  {
   "cell_type": "markdown",
   "metadata": {},
   "source": [
    "## Load Data"
   ]
  },
  {
   "cell_type": "code",
   "execution_count": 48,
   "metadata": {},
   "outputs": [
    {
     "name": "stdout",
     "output_type": "stream",
     "text": [
      "Train size: 1320\n",
      "Test size: 1320\n"
     ]
    }
   ],
   "source": [
    "train_data, test_data = get_data(data_params)\n",
    "print(\"Train size: %i\" % len(train_data))\n",
    "print(\"Test size: %i\" % len(test_data))"
   ]
  },
  {
   "cell_type": "markdown",
   "metadata": {},
   "source": [
    "## Train Model"
   ]
  },
  {
   "cell_type": "code",
   "execution_count": 49,
   "metadata": {
    "scrolled": false
   },
   "outputs": [
    {
     "name": "stdout",
     "output_type": "stream",
     "text": [
      "epochs_done [2, 4, 5, 3]\n",
      "START TRAIN.\n",
      "train : [iteration : 50] : 0.6963090896606445\n",
      "train : [iteration : 100] : 0.9701043367385864\n",
      "train : [iteration : 150] : 0.5520023107528687\n",
      "train : [iteration : 200] : 0.8126823902130127\n",
      "train : [iteration : 250] : 0.4938638210296631\n",
      "train : [iteration : 300] : 0.5826117992401123\n",
      "train : [iteration : 350] : 0.8309943079948425\n",
      "train : [iteration : 400] : 0.7814158201217651\n",
      "train : [iteration : 450] : 0.7133621573448181\n",
      "train : [iteration : 500] : 0.61917644739151\n",
      "train : [iteration : 550] : 0.8213984370231628\n",
      "train : [iteration : 600] : 0.7988598346710205\n",
      "train : [iteration : 650] : 0.737617015838623\n",
      "[Epoch : 6/10] : train loss = 0.7564063668251038, val loss = 0.806104634747\n",
      "Saving model... models/Exp02_try3/quicknat_epoch7.model\n",
      "train : [iteration : 950] : 0.8175528049468994\n",
      "train : [iteration : 1000] : 0.6784403324127197\n",
      "train : [iteration : 1050] : 0.6788345575332642\n",
      "train : [iteration : 1100] : 0.43669843673706055\n",
      "train : [iteration : 1150] : 0.7768955230712891\n",
      "train : [iteration : 1200] : 0.799633800983429\n",
      "train : [iteration : 1250] : 0.8865774273872375\n",
      "train : [iteration : 1300] : 0.6653024554252625\n",
      "train : [iteration : 1350] : 0.7181753516197205\n",
      "train : [iteration : 1400] : 0.652876079082489\n",
      "train : [iteration : 1450] : 0.7628723382949829\n",
      "train : [iteration : 1500] : 0.8054397106170654\n",
      "train : [iteration : 1550] : 0.8748297095298767\n",
      "[Epoch : 7/10] : train loss = 0.4197770953178406, val loss = 0.784215000881\n",
      "Saving model... models/Exp02_try3/quicknat_epoch8.model\n",
      "train : [iteration : 1850] : 0.5967745184898376\n",
      "train : [iteration : 1900] : 0.6146506667137146\n",
      "train : [iteration : 1950] : 0.6476657390594482\n",
      "train : [iteration : 2000] : 0.6006840467453003\n",
      "train : [iteration : 2050] : 0.6170725226402283\n",
      "train : [iteration : 2100] : 0.5982578992843628\n",
      "train : [iteration : 2150] : 0.6412617564201355\n",
      "train : [iteration : 2200] : 0.7857844233512878\n",
      "train : [iteration : 2250] : 0.5171542763710022\n",
      "train : [iteration : 2300] : 0.6491975784301758\n",
      "train : [iteration : 2350] : 0.7944461703300476\n",
      "train : [iteration : 2400] : 0.7567057013511658\n",
      "train : [iteration : 2450] : 0.6990891695022583\n",
      "train : [iteration : 2500] : 0.7264420390129089\n",
      "[Epoch : 8/10] : train loss = 0.6417819261550903, val loss = 0.785413528031\n",
      "Saving model... models/Exp02_try3/quicknat_epoch9.model\n",
      "train : [iteration : 2800] : 0.5712621808052063\n",
      "train : [iteration : 2850] : 0.6516460180282593\n",
      "train : [iteration : 2900] : 0.8637740015983582\n",
      "train : [iteration : 2950] : 0.5739660263061523\n",
      "train : [iteration : 3000] : 0.6675906777381897\n",
      "train : [iteration : 3050] : 0.8633710145950317\n",
      "train : [iteration : 3100] : 0.7247048616409302\n",
      "train : [iteration : 3150] : 0.710561990737915\n",
      "train : [iteration : 3200] : 0.5029958486557007\n",
      "train : [iteration : 3250] : 0.5947545170783997\n",
      "train : [iteration : 3300] : 0.5036534070968628\n",
      "train : [iteration : 3350] : 0.6734417080879211\n",
      "train : [iteration : 3400] : 0.747124969959259\n",
      "[Epoch : 9/10] : train loss = 0.5253942012786865, val loss = 0.827527881572\n",
      "Saving model... models/Exp02_try3/quicknat_epoch10.model\n",
      "train : [iteration : 3700] : 0.47129595279693604\n",
      "train : [iteration : 3750] : 0.7868139147758484\n",
      "train : [iteration : 3800] : 0.5912776589393616\n",
      "train : [iteration : 3850] : 0.7719215750694275\n",
      "train : [iteration : 3900] : 0.5199366807937622\n",
      "train : [iteration : 3950] : 0.5598315596580505\n",
      "train : [iteration : 4000] : 0.3995917737483978\n",
      "train : [iteration : 4050] : 0.7131985425949097\n",
      "train : [iteration : 4100] : 0.8679707646369934\n",
      "train : [iteration : 4150] : 0.7056782245635986\n",
      "train : [iteration : 4200] : 0.7685883641242981\n",
      "train : [iteration : 4250] : 0.7524481415748596\n",
      "train : [iteration : 4300] : 0.7070216536521912\n",
      "train : [iteration : 4350] : 0.7958739995956421\n",
      "[Epoch : 10/10] : train loss = 0.7290951013565063, val loss = 0.773467413404\n",
      "Saving model... models/Exp02_try3/quicknat_epoch11.model\n",
      "FINISH.\n"
     ]
    },
    {
     "data": {
      "text/plain": [
       "<matplotlib.figure.Figure at 0x7ff2cc83cb70>"
      ]
     },
     "metadata": {},
     "output_type": "display_data"
    }
   ],
   "source": [
    "from quickNat_pytorch.quickNAT import quickNAT\n",
    "from quickNat_pytorch.solver import Solver\n",
    "\n",
    "train_loader = torch.utils.data.DataLoader(train_data, batch_size=train_params['train_batch_size'], shuffle=True, num_workers=4)\n",
    "val_loader = torch.utils.data.DataLoader(test_data, batch_size=train_params['val_batch_size'], shuffle=False, num_workers=4)\n",
    "\n",
    "quicknat_model = quickNAT(params['network'])\n",
    "solver = Solver(optim_args={\"lr\": train_params['learning_rate']}, model_name = train_params['model_name'], labels = params['data']['labels'])\n",
    "solver.train(quicknat_model, train_loader, val_loader, \n",
    "             log_nth=train_params['log_nth'], \n",
    "             num_epochs=train_params['num_epochs'], \n",
    "             exp_dir_name=train_params['exp_dir_name'], \n",
    "             lr_scheduler_step_size = train_params['lr_scheduler_step_size'], \n",
    "             lr_scheduler_gamma = train_params['lr_scheduler_gamma'],\n",
    "             use_last_checkpoint =train_params['use_last_checkpoint'])"
   ]
  },
  {
   "cell_type": "markdown",
   "metadata": {},
   "source": [
    "## Save the Model\n",
    "\n",
    "When you are satisfied with your training, you can save the model."
   ]
  },
  {
   "cell_type": "code",
   "execution_count": 40,
   "metadata": {},
   "outputs": [
    {
     "name": "stdout",
     "output_type": "stream",
     "text": [
      "Saving model... models/quicknat_model.model\n"
     ]
    }
   ],
   "source": [
    "quicknat_model.save(train_params['final_model_path'])"
   ]
  },
  {
   "cell_type": "markdown",
   "metadata": {},
   "source": [
    "## Deploy Model on Test Data"
   ]
  },
  {
   "cell_type": "code",
   "execution_count": 54,
   "metadata": {},
   "outputs": [
    {
     "data": {
      "image/png": "[encoded data removed]",
      "text/plain": [
       "<matplotlib.figure.Figure at 0x7ff2c4e49320>"
      ]
     },
     "metadata": {},
     "output_type": "display_data"
    }
   ],
   "source": [
    "import matplotlib.pyplot as plt\n",
    "\n",
    "quick_model = torch.load(train_params['final_model_path'])\n",
    "with torch.no_grad():\n",
    "    test_input = Variable(torch.Tensor(test_data.X[201:202]).cuda())\n",
    "    out = quick_model.predict(test_input)\n",
    "    \n",
    "\n",
    "groud_truth = test_data.y[201:202]\n",
    "groud_truth = np.squeeze(groud_truth)    \n",
    "\n",
    "fig, ax = plt.subplots(nrows=1, ncols=2,figsize=(20,20))\n",
    "ax[0].imshow(out)\n",
    "\n",
    "ax[0].set_title(\"Predicted\", fontsize=10, color = \"green\")\n",
    "ax[0].axis('off')\n",
    "ax[1].imshow(groud_truth)\n",
    "ax[1].set_title(\"Ground Truth\", fontsize=10, color = \"green\")\n",
    "ax[1].axis('off')\n",
    "plt.show()"
   ]
  }
 ],
 "metadata": {
  "kernelspec": {
   "display_name": "Python 3",
   "language": "python",
   "name": "python3"
  },
  "language_info": {
   "codemirror_mode": {
    "name": "ipython",
    "version": 3
   },
   "file_extension": ".py",
   "mimetype": "text/x-python",
   "name": "python",
   "nbconvert_exporter": "python",
   "pygments_lexer": "ipython3",
   "version": "3.6.3"
  }
 },
 "nbformat": 4,
 "nbformat_minor": 2
}
