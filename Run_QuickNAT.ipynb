{
 "cells": [
  {
   "cell_type": "markdown",
   "metadata": {},
   "source": [
    "## Train QuickNAT\n",
    "Working code! Details coming soon!"
   ]
  },
  {
   "cell_type": "code",
   "execution_count": 1,
   "metadata": {
    "collapsed": true
   },
   "outputs": [],
   "source": [
    "import numpy as np\n",
    "import matplotlib.pyplot as plt\n",
    "import torch\n",
    "from torch.autograd import Variable\n",
    "\n",
    "from quickNat_pytorch.quickNAT import quickNAT\n",
    "from quickNat_pytorch.data_utils import get_data\n",
    "\n",
    "from quickNat_pytorch.net_api import squeeze_excitation as se\n",
    "\n",
    "#torch.set_default_tensor_type('torch.FloatTensor')\n",
    "%matplotlib inline\n",
    "# for auto-reloading external modules\n",
    "# see http://stackoverflow.com/questions/1907993/autoreload-of-modules-in-ipython\n",
    "%load_ext autoreload\n",
    "%autoreload 2\n",
    "\n",
    "plt.rcParams['figure.figsize'] = (10.0, 8.0) # set default size of plots\n",
    "plt.rcParams['image.interpolation'] = 'nearest'\n",
    "plt.rcParams['image.cmap'] = 'gray'\n",
    "\n",
    "params ={\n",
    "    'data' : {\n",
    "        'base_dir' : \"datasets/coronal\",\n",
    "        'train_data_file' : \"Data_train.h5\", \n",
    "        'train_label_file' : \"Label_train.h5\",\n",
    "        'train_class_weights_file' : \"Class_Weight_train.h5\",        \n",
    "        'train_weights_file' : \"Weight_train.h5\",                \n",
    "        'test_data_file' : \"Data_test.h5\", \n",
    "        'test_label_file' : \"Label_test.h5\",         \n",
    "        'test_class_weights_file' : \"Class_Weight_test.h5\",       \n",
    "        'test_weights_file' : \"Weight_test.h5\",\n",
    "        'labels' : ['Background','Left WM','Left Cortex','Left Lateral ventricle','Left Inf LatVentricle','Left Cerebellum WM','Left Cerebellum Cortex',\n",
    "                    'Left Thalamus','Left Caudate','Left Putamen','Left Pallidum','3rd Ventricle','4th Ventricle','Brain Stem','Left Hippocampus',\n",
    "                    'Left Amygdala','CSF (Cranial)','Left Accumbens','Left Ventral DC','Right WM','Right Cortex','Right Lateral Ventricle',\n",
    "                    'Right Inf LatVentricle','Right Cerebellum WM','Right Cerebellum Cortex','Right Thalamus','Right Caudate','Right Putamen',\n",
    "                    'Right Pallidum','Right Hippocampus','Right Amygdala','Right Accumbens','Right Ventral DC']\n",
    "    },\n",
    "    'network' : { \n",
    "        'num_class': 33,\n",
    "        'num_channels':1,\n",
    "        'num_filters':64,\n",
    "        'kernel_h':5,\n",
    "        'kernel_w':5,\n",
    "        'kernel_c': 1,\n",
    "        'stride_conv':1,\n",
    "        'pool':2,\n",
    "        'stride_pool':2,\n",
    "        'se_block' : se.SELayer.NONE, # Valid options : se.SELayer.NONE, se.SELayer.CSE, se.SELayer.SSE, se.SELayer.CSSE\n",
    "        'drop_out' : 0 # Keep 0 for no dropout        \n",
    "    },\n",
    "    'training' : {\n",
    "        'model_name' : 'quicknat',\n",
    "        'learning_rate': 1e-2,\n",
    "        'train_batch_size': 2,\n",
    "        'val_batch_size': 5,\n",
    "        'log_nth': 50,\n",
    "        'num_epochs': 10,\n",
    "        'lr_scheduler_step_size': 5,\n",
    "        'lr_scheduler_gamma' : 0.5,\n",
    "        'exp_dir_name': 'Exp01_try1',\n",
    "        'final_model_path': 'models/quicknat_model.model',\n",
    "        'use_last_checkpoint':True #Uses the last checkpoint file from the exp_dir_name folder\n",
    "    }\n",
    "}\n",
    "\n",
    "train_params, net_params, data_params = params['training'], params['network'], params['data']"
   ]
  },
  {
   "cell_type": "markdown",
   "metadata": {},
   "source": [
    "## Load Data"
   ]
  },
  {
   "cell_type": "code",
   "execution_count": 2,
   "metadata": {},
   "outputs": [
    {
     "name": "stdout",
     "output_type": "stream",
     "text": [
      "Train size: 799\n",
      "Test size: 763\n"
     ]
    }
   ],
   "source": [
    "train_data, test_data = get_data(data_params)\n",
    "print(\"Train size: %i\" % len(train_data))\n",
    "print(\"Test size: %i\" % len(test_data))"
   ]
  },
  {
   "cell_type": "markdown",
   "metadata": {},
   "source": [
    "## Train Model"
   ]
  },
  {
   "cell_type": "code",
   "execution_count": 4,
   "metadata": {
    "scrolled": false
   },
   "outputs": [
    {
     "name": "stdout",
     "output_type": "stream",
     "text": [
      "START TRAIN.\n",
      "train : [iteration : 50] : 9131222106112.0\n",
      "train : [iteration : 100] : 8.235671945530573e+19\n",
      "train : [iteration : 150] : 1.6230669042078188e+18\n",
      "train : [iteration : 200] : 5580528853975040.0\n",
      "train : [iteration : 250] : 2080591142977536.0\n",
      "train : [iteration : 300] : 448480250167296.0\n",
      "train : [iteration : 350] : 9.110341142007775e+18\n",
      "train : [iteration : 400] : 9.051304789299692e+17\n",
      "(256, 256) (256, 256)\n",
      "(256, 256) (256, 256)\n",
      "[Epoch : 7/10] : train loss = 9.051304789299692e+17, val loss = 2.14563878629e+18\n",
      "Saving model... models/Exp01_try1/quicknat_epoch7.model\n",
      "train : [iteration : 600] : 8.330679893493652\n",
      "train : [iteration : 650] : 2.1429035663604736\n",
      "train : [iteration : 700] : 1.5848972797393799\n",
      "train : [iteration : 750] : 1.4376325607299805\n",
      "train : [iteration : 800] : 1.3379788398742676\n",
      "train : [iteration : 850] : 1.3514447212219238\n",
      "train : [iteration : 900] : 1.1928558349609375\n",
      "train : [iteration : 950] : 1.2745083570480347\n",
      "(256, 256) (256, 256)\n",
      "(256, 256) (256, 256)\n",
      "[Epoch : 8/10] : train loss = 1.0498743057250977, val loss = 1.21751013301\n",
      "Saving model... models/Exp01_try1/quicknat_epoch8.model\n",
      "train : [iteration : 1150] : 1.1646502017974854\n",
      "train : [iteration : 1200] : 1.0797748565673828\n",
      "train : [iteration : 1250] : 1.1331127882003784\n",
      "train : [iteration : 1300] : 1.0543636083602905\n",
      "train : [iteration : 1350] : 1.0937132835388184\n",
      "train : [iteration : 1400] : 1.0784118175506592\n",
      "train : [iteration : 1450] : 1.094318151473999\n",
      "train : [iteration : 1500] : 1.0825014114379883\n",
      "(256, 256) (256, 256)\n",
      "(256, 256) (256, 256)\n",
      "[Epoch : 9/10] : train loss = 1.075399398803711, val loss = 1.11372957393\n",
      "Saving model... models/Exp01_try1/quicknat_epoch9.model\n",
      "train : [iteration : 1700] : 0.9752854704856873\n",
      "train : [iteration : 1750] : 1.1047170162200928\n",
      "train : [iteration : 1800] : 1.1058568954467773\n",
      "train : [iteration : 1850] : 1.0544910430908203\n",
      "train : [iteration : 1900] : 1.008105754852295\n",
      "train : [iteration : 1950] : 1.0568346977233887\n",
      "train : [iteration : 2000] : 1.0001145601272583\n",
      "train : [iteration : 2050] : 1.0022644996643066\n",
      "(256, 256) (256, 256)\n",
      "(256, 256) (256, 256)\n",
      "[Epoch : 10/10] : train loss = 0.9875139594078064, val loss = 1.05831651594\n",
      "Saving model... models/Exp01_try1/quicknat_epoch10.model\n",
      "FINISH.\n"
     ]
    }
   ],
   "source": [
    "from quickNat_pytorch.quickNAT import quickNAT\n",
    "from quickNat_pytorch.solver import Solver\n",
    "\n",
    "train_loader = torch.utils.data.DataLoader(train_data, batch_size=train_params['train_batch_size'], shuffle=True, num_workers=4)\n",
    "val_loader = torch.utils.data.DataLoader(test_data, batch_size=train_params['val_batch_size'], shuffle=False, num_workers=4)\n",
    "\n",
    "quicknat_model = quickNAT(params['network'])\n",
    "solver = Solver(num_class = net_params['num_class'], optim_args={\"lr\": train_params['learning_rate']}, model_name = train_params['model_name'], labels = data_params['labels'])\n",
    "solver.train(quicknat_model, train_loader, val_loader, \n",
    "             log_nth=train_params['log_nth'], \n",
    "             num_epochs=train_params['num_epochs'], \n",
    "             exp_dir_name=train_params['exp_dir_name'], \n",
    "             lr_scheduler_step_size = train_params['lr_scheduler_step_size'], \n",
    "             lr_scheduler_gamma = train_params['lr_scheduler_gamma'],\n",
    "             use_last_checkpoint =train_params['use_last_checkpoint'])"
   ]
  },
  {
   "cell_type": "markdown",
   "metadata": {},
   "source": [
    "## Save the Model\n",
    "\n",
    "When you are satisfied with your training, you can save the model."
   ]
  },
  {
   "cell_type": "code",
   "execution_count": 40,
   "metadata": {},
   "outputs": [
    {
     "name": "stdout",
     "output_type": "stream",
     "text": [
      "Saving model... models/quicknat_model.model\n"
     ]
    }
   ],
   "source": [
    "quicknat_model.save(train_params['final_model_path'])"
   ]
  },
  {
   "cell_type": "markdown",
   "metadata": {},
   "source": [
    "## Deploy Model on Test Data"
   ]
  },
  {
   "cell_type": "code",
   "execution_count": 20,
   "metadata": {},
   "outputs": [
    {
     "data": {
      "image/png": "[encoded data removed]",
      "text/plain": [
       "<matplotlib.figure.Figure at 0x7f9e22ceb898>"
      ]
     },
     "metadata": {},
     "output_type": "display_data"
    }
   ],
   "source": [
    "import matplotlib.pyplot as plt\n",
    "\n",
    "quick_model = torch.load(train_params['final_model_path'])\n",
    "with torch.no_grad():\n",
    "    test_input = Variable(torch.Tensor(test_data.X[500:501]).cuda())\n",
    "    out = quick_model.predict(test_input)\n",
    "    \n",
    "groud_truth = test_data.y[500:501]\n",
    "groud_truth = np.squeeze(groud_truth)    \n",
    "\n",
    "\n",
    "fig, ax = plt.subplots(nrows=1, ncols=2,figsize=(20,20))\n",
    "ax[0].imshow(out, cmap ='jet')\n",
    "\n",
    "ax[0].set_title(\"Predicted\", fontsize=10, color = \"green\")\n",
    "ax[0].axis('off')\n",
    "ax[1].imshow(groud_truth, cmap ='jet')\n",
    "ax[1].set_title(\"Ground Truth\", fontsize=10, color = \"green\")\n",
    "ax[1].axis('off')\n",
    "plt.show()"
   ]
  },
  {
   "cell_type": "code",
   "execution_count": null,
   "metadata": {},
   "outputs": [],
   "source": []
  }
 ],
 "metadata": {
  "kernelspec": {
   "display_name": "Python 3",
   "language": "python",
   "name": "python3"
  },
  "language_info": {
   "codemirror_mode": {
    "name": "ipython",
    "version": 3
   },
   "file_extension": ".py",
   "mimetype": "text/x-python",
   "name": "python",
   "nbconvert_exporter": "python",
   "pygments_lexer": "ipython3",
   "version": "3.6.3"
  }
 },
 "nbformat": 4,
 "nbformat_minor": 2
}
