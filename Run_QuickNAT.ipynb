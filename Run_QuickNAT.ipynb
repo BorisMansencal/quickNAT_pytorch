{
 "cells": [
  {
   "cell_type": "markdown",
   "metadata": {},
   "source": [
    "## Train QuickNAT\n",
    "Working code! Details coming soon!"
   ]
  },
  {
   "cell_type": "code",
   "execution_count": 90,
   "metadata": {
    "collapsed": true
   },
   "outputs": [
    {
     "name": "stdout",
     "output_type": "stream",
     "text": [
      "The autoreload extension is already loaded. To reload it, use:\n",
      "  %reload_ext autoreload\n"
     ]
    }
   ],
   "source": [
    "import numpy as np\n",
    "import matplotlib.pyplot as plt\n",
    "import torch\n",
    "from torch.autograd import Variable\n",
    "\n",
    "from quickNat_pytorch.quickNAT import quickNAT\n",
    "from quickNat_pytorch.data_utils import get_data\n",
    "\n",
    "from quickNat_pytorch.net_api import squeeze_excitation as se\n",
    "\n",
    "#torch.set_default_tensor_type('torch.FloatTensor')\n",
    "%matplotlib inline\n",
    "plt.rcParams['figure.figsize'] = (10.0, 8.0) # set default size of plots\n",
    "plt.rcParams['image.interpolation'] = 'nearest'\n",
    "plt.rcParams['image.cmap'] = 'gray'\n",
    "\n",
    "# for auto-reloading external modules\n",
    "# see http://stackoverflow.com/questions/1907993/autoreload-of-modules-in-ipython\n",
    "%load_ext autoreload\n",
    "%autoreload 2\n",
    "\n",
    "params ={\n",
    "    'data' : {\n",
    "        'base_dir' : \"datasets\",\n",
    "        'train_data_file' : \"Data_train.h5\", \n",
    "        'train_label_file' : \"Label_train.h5\",\n",
    "        'train_class_weights_file' : \"Class_Weight_train.h5\",        \n",
    "        'train_weights_file' : \"Weight_train.h5\",                \n",
    "        'test_data_file' : \"Data_test.h5\", \n",
    "        'test_label_file' : \"Label_test.h5\",         \n",
    "        'test_class_weights_file' : \"Class_Weight_test.h5\",       \n",
    "        'test_weights_file' : \"Weight_test.h5\"        \n",
    "\n",
    "    },\n",
    "    'network' : { \n",
    "        'num_class': 33,\n",
    "        'num_channels':1,\n",
    "        'num_filters':64,\n",
    "        'kernel_h':5,\n",
    "        'kernel_w':5,\n",
    "        'kernel_c': 1,\n",
    "        'stride_conv':1,\n",
    "        'pool':2,\n",
    "        'stride_pool':2,\n",
    "        'se_block' : se.SELayer.NONE, # Valid options : se.SELayer.NONE, se.SELayer.CSE, se.SELayer.SSE, se.SELayer.CSSE\n",
    "        'drop_out' : 0.2 # Keep 0 for no dropout        \n",
    "    }\n",
    "}"
   ]
  },
  {
   "cell_type": "code",
   "execution_count": 91,
   "metadata": {},
   "outputs": [
    {
     "name": "stdout",
     "output_type": "stream",
     "text": [
      "Train size: 1320\n",
      "Test size: 1320\n"
     ]
    }
   ],
   "source": [
    "train_data, test_data = get_data(params['data'])\n",
    "print(\"Train size: %i\" % len(train_data))\n",
    "print(\"Test size: %i\" % len(test_data))"
   ]
  },
  {
   "cell_type": "code",
   "execution_count": 7,
   "metadata": {
    "scrolled": false
   },
   "outputs": [
    {
     "name": "stdout",
     "output_type": "stream",
     "text": [
      "START TRAIN.\n",
      "[Iteration : 0] : 5.569219589233398\n",
      "[Iteration : 50] : 1.291003704071045\n",
      "[Iteration : 100] : 1.1507240533828735\n",
      "[Iteration : 150] : 1.2168679237365723\n",
      "[Iteration : 200] : 1.1308543682098389\n",
      "[Iteration : 250] : 1.0466498136520386\n",
      "[Iteration : 300] : 1.192547082901001\n",
      "[Iteration : 350] : 0.9412102103233337\n",
      "[Iteration : 400] : 1.0607479810714722\n",
      "[Iteration : 450] : 1.1185009479522705\n",
      "[Iteration : 500] : 0.9211529493331909\n",
      "[Iteration : 550] : 0.9841406345367432\n",
      "[Iteration : 600] : 1.013573169708252\n",
      "[Iteration : 650] : 0.905174732208252\n",
      "[Iteration : 700] : 0.9079746603965759\n",
      "[Iteration : 750] : 0.9454309344291687\n",
      "[Iteration : 800] : 0.8734065890312195\n",
      "[Iteration : 850] : 0.9322116374969482\n",
      "[Iteration : 900] : 0.822444498538971\n",
      "[Epoch : 0/1] : 0.9332430958747864\n",
      "Saving model... models/Exp02_try3/quicknat_epoch1.model\n",
      "FINISH.\n"
     ]
    }
   ],
   "source": [
    "from quickNat_pytorch.quickNAT import quickNAT\n",
    "from quickNat_pytorch.solver import Solver\n",
    "\n",
    "\n",
    "train_loader = torch.utils.data.DataLoader(train_data, batch_size=2, shuffle=True, num_workers=4)\n",
    "val_loader = torch.utils.data.DataLoader(test_data, batch_size=2, shuffle=False, num_workers=4)\n",
    "\n",
    "exp_dir_name = 'Exp02_try3'\n",
    "\n",
    "quicknat_model = quickNAT(params['network'])\n",
    "solver = Solver(optim_args={\"lr\": 1e-2})\n",
    "solver.train(quicknat_model, train_loader, val_loader, log_nth=1, num_epochs=10, exp_dir_name=exp_dir_name)"
   ]
  },
  {
   "cell_type": "markdown",
   "metadata": {},
   "source": [
    "## Save the Model\n",
    "\n",
    "When you are satisfied with your training, you can save the model."
   ]
  },
  {
   "cell_type": "code",
   "execution_count": 8,
   "metadata": {},
   "outputs": [
    {
     "name": "stdout",
     "output_type": "stream",
     "text": [
      "Saving model... models/Exp02_try3/quicknat_model.model\n"
     ]
    }
   ],
   "source": [
    "quicknat_model.save(\"models/Exp02_try3/quicknat_model.model\")"
   ]
  },
  {
   "cell_type": "markdown",
   "metadata": {},
   "source": [
    "# Deploy Model on Test Data"
   ]
  },
  {
   "cell_type": "code",
   "execution_count": 72,
   "metadata": {},
   "outputs": [
    {
     "data": {
      "text/plain": [
       "(1350, 1, 256, 256)"
      ]
     },
     "execution_count": 72,
     "metadata": {},
     "output_type": "execute_result"
    }
   ],
   "source": [
    "test_data.X.shape"
   ]
  },
  {
   "cell_type": "code",
   "execution_count": 69,
   "metadata": {},
   "outputs": [
    {
     "data": {
      "image/png": "[encoded data removed]",
      "text/plain": [
       "<matplotlib.figure.Figure at 0x7fbeec0422e8>"
      ]
     },
     "metadata": {},
     "output_type": "display_data"
    }
   ],
   "source": [
    "import matplotlib.pyplot as plt\n",
    "\n",
    "# quick_model = torch.load('models/Exp02_try3/quicknat_epoch1.model')\n",
    "# quick_model = quick_model.eval()\n",
    "# with torch.no_grad():\n",
    "#     test_input = Variable(torch.Tensor(test_data.X[200:201]).cuda())\n",
    "# quick_model.enable_test_dropout()\n",
    "# out = quick_model(test_input)\n",
    "# max_val, idx = torch.max(out,1)\n",
    "# idx = idx.data.cpu().numpy()\n",
    "# idx = np.squeeze(idx)\n",
    "# plt.imshow(idx)\n",
    "# plt.show()\n",
    "\n",
    "img_test = test_data.y[201:202]\n",
    "img_test = np.squeeze(img_test)\n",
    "plt.imshow(img_test)\n",
    "plt.show()"
   ]
  },
  {
   "cell_type": "code",
   "execution_count": null,
   "metadata": {},
   "outputs": [],
   "source": []
  }
 ],
 "metadata": {
  "kernelspec": {
   "display_name": "Python 3",
   "language": "python",
   "name": "python3"
  },
  "language_info": {
   "codemirror_mode": {
    "name": "ipython",
    "version": 3
   },
   "file_extension": ".py",
   "mimetype": "text/x-python",
   "name": "python",
   "nbconvert_exporter": "python",
   "pygments_lexer": "ipython3",
   "version": "3.6.3"
  }
 },
 "nbformat": 4,
 "nbformat_minor": 2
}
