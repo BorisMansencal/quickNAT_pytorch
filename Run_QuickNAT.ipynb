{
 "cells": [
  {
   "cell_type": "markdown",
   "metadata": {},
   "source": [
    "## Train QuickNAT\n",
    "Working code! Details coming soon!"
   ]
  },
  {
   "cell_type": "code",
   "execution_count": 1,
   "metadata": {
    "collapsed": true
   },
   "outputs": [],
   "source": [
    "import numpy as np\n",
    "import matplotlib.pyplot as plt\n",
    "import torch\n",
    "from torch.autograd import Variable\n",
    "\n",
    "from networks.quickNAT import quickNAT\n",
    "from networks.data_utils import get_imdb_data\n",
    "\n",
    "#torch.set_default_tensor_type('torch.FloatTensor')\n",
    "\n",
    "%matplotlib inline\n",
    "plt.rcParams['figure.figsize'] = (10.0, 8.0) # set default size of plots\n",
    "plt.rcParams['image.interpolation'] = 'nearest'\n",
    "plt.rcParams['image.cmap'] = 'gray'\n",
    "\n",
    "# for auto-reloading external modules\n",
    "# see http://stackoverflow.com/questions/1907993/autoreload-of-modules-in-ipython\n",
    "#%load_ext autoreload\n",
    "#%autoreload 2"
   ]
  },
  {
   "cell_type": "code",
   "execution_count": 2,
   "metadata": {},
   "outputs": [
    {
     "name": "stdout",
     "output_type": "stream",
     "text": [
      "(3240, 256, 256)\n",
      "27.0\n",
      "0.0\n",
      "Train size: 1890\n",
      "Test size: 1350\n"
     ]
    }
   ],
   "source": [
    "\n",
    "train_data, test_data = get_imdb_data()\n",
    "print(\"Train size: %i\" % len(train_data))\n",
    "print(\"Test size: %i\" % len(test_data))"
   ]
  },
  {
   "cell_type": "code",
   "execution_count": 3,
   "metadata": {
    "scrolled": false
   },
   "outputs": [
    {
     "name": "stdout",
     "output_type": "stream",
     "text": [
      "START TRAIN.\n"
     ]
    },
    {
     "name": "stderr",
     "output_type": "stream",
     "text": [
      "/home/deeplearning/Abhijit/Git Projects/quickNAT_pytorch/networks/net_api/losses.py:93: UserWarning: Implicit dimension choice for softmax has been deprecated. Change the call to include dim=X as an argument.\n",
      "  input_soft = F.softmax(input)\n"
     ]
    },
    {
     "name": "stdout",
     "output_type": "stream",
     "text": [
      "[Iteration : 0] : 5.338991641998291\n",
      "[Iteration : 50] : 1.196690559387207\n",
      "[Iteration : 100] : 1.1790229082107544\n",
      "[Iteration : 150] : 1.1515096426010132\n",
      "[Iteration : 200] : 1.103614330291748\n",
      "[Iteration : 250] : 1.0938990116119385\n",
      "[Iteration : 300] : 1.1703295707702637\n",
      "[Iteration : 350] : 1.0792620182037354\n",
      "[Iteration : 400] : 1.0680567026138306\n",
      "[Iteration : 450] : 1.103791356086731\n",
      "[Epoch : 0/10] : 1.0787193775177002\n",
      "Saving model... models/Exp02_try2/quicknat_epoch1.model\n",
      "[Iteration : 0] : 1.0534029006958008\n",
      "[Iteration : 50] : 1.0029174089431763\n",
      "[Iteration : 100] : 1.0416001081466675\n",
      "[Iteration : 150] : 1.0930482149124146\n",
      "[Iteration : 200] : 1.0595065355300903\n",
      "[Iteration : 250] : 1.0332890748977661\n",
      "[Iteration : 300] : 1.0458155870437622\n",
      "[Iteration : 350] : 1.0133975744247437\n",
      "[Iteration : 400] : 1.018371820449829\n",
      "[Iteration : 450] : 1.0022300481796265\n",
      "[Epoch : 1/10] : 1.0380741357803345\n",
      "Saving model... models/Exp02_try2/quicknat_epoch2.model\n",
      "[Iteration : 0] : 1.0111743211746216\n",
      "[Iteration : 50] : 1.0148959159851074\n",
      "[Iteration : 100] : 0.9969855546951294\n",
      "[Iteration : 150] : 1.0142236948013306\n",
      "[Iteration : 200] : 1.0237571001052856\n",
      "[Iteration : 250] : 0.998254656791687\n",
      "[Iteration : 300] : 0.9927306175231934\n",
      "[Iteration : 350] : 0.9819050431251526\n",
      "[Iteration : 400] : 1.0184415578842163\n",
      "[Iteration : 450] : 0.9958615899085999\n",
      "[Epoch : 2/10] : 0.999207615852356\n",
      "Saving model... models/Exp02_try2/quicknat_epoch3.model\n",
      "[Iteration : 0] : 1.0245230197906494\n",
      "[Iteration : 50] : 1.0825237035751343\n",
      "[Iteration : 100] : 1.008926510810852\n",
      "[Iteration : 150] : 1.0253353118896484\n",
      "[Iteration : 200] : 0.9925206899642944\n",
      "[Iteration : 250] : 1.0173007249832153\n",
      "[Iteration : 300] : 1.0181810855865479\n",
      "[Iteration : 350] : 1.0442967414855957\n",
      "[Iteration : 400] : 0.9834573864936829\n",
      "[Iteration : 450] : 0.9973422288894653\n",
      "[Epoch : 3/10] : 1.0299204587936401\n",
      "Saving model... models/Exp02_try2/quicknat_epoch4.model\n",
      "[Iteration : 0] : 1.0294570922851562\n",
      "[Iteration : 50] : 1.0495129823684692\n",
      "[Iteration : 100] : 1.0165036916732788\n",
      "[Iteration : 150] : 1.01377272605896\n",
      "[Iteration : 200] : 0.9987518787384033\n",
      "[Iteration : 250] : 0.98326575756073\n",
      "[Iteration : 300] : 0.9794906973838806\n",
      "[Iteration : 350] : 0.9878631830215454\n",
      "[Iteration : 400] : 0.9848511815071106\n",
      "[Iteration : 450] : 0.9807905554771423\n",
      "[Epoch : 4/10] : 1.022591471672058\n",
      "Saving model... models/Exp02_try2/quicknat_epoch5.model\n",
      "[Iteration : 0] : 0.9952952265739441\n",
      "[Iteration : 50] : 0.9996981024742126\n",
      "[Iteration : 100] : 0.9812601804733276\n",
      "[Iteration : 150] : 0.9761945009231567\n",
      "[Iteration : 200] : 0.9909568428993225\n",
      "[Iteration : 250] : 1.0001227855682373\n",
      "[Iteration : 300] : 0.9743424654006958\n",
      "[Iteration : 350] : 0.9902157783508301\n",
      "[Iteration : 400] : 0.9823659062385559\n",
      "[Iteration : 450] : 0.9744378924369812\n",
      "[Epoch : 5/10] : 1.000185489654541\n",
      "Saving model... models/Exp02_try2/quicknat_epoch6.model\n",
      "[Iteration : 0] : 0.9982559680938721\n",
      "[Iteration : 50] : 1.018119215965271\n",
      "[Iteration : 100] : 0.9860271215438843\n",
      "[Iteration : 150] : 0.9922206401824951\n",
      "[Iteration : 200] : 1.0143502950668335\n",
      "[Iteration : 250] : 0.9676705002784729\n",
      "[Iteration : 300] : 0.9930983185768127\n",
      "[Iteration : 350] : 0.9914254546165466\n",
      "[Iteration : 400] : 0.9998244047164917\n",
      "[Iteration : 450] : 0.9828774929046631\n",
      "[Epoch : 6/10] : 1.0072970390319824\n",
      "Saving model... models/Exp02_try2/quicknat_epoch7.model\n",
      "[Iteration : 0] : 0.9678488969802856\n",
      "[Iteration : 50] : 0.9962409138679504\n",
      "[Iteration : 100] : 0.9750304222106934\n",
      "[Iteration : 150] : 0.9636921882629395\n",
      "[Iteration : 200] : 0.988173246383667\n",
      "[Iteration : 250] : 0.9640476107597351\n",
      "[Iteration : 300] : 0.9804656505584717\n",
      "[Iteration : 350] : 0.9740525484085083\n",
      "[Iteration : 400] : 0.9629921317100525\n",
      "[Iteration : 450] : 0.9882879853248596\n",
      "[Epoch : 7/10] : 0.9629532694816589\n",
      "Saving model... models/Exp02_try2/quicknat_epoch8.model\n",
      "[Iteration : 0] : 0.9712841510772705\n",
      "[Iteration : 50] : 0.9800852537155151\n",
      "[Iteration : 100] : 1.0019749402999878\n",
      "[Iteration : 150] : 0.9741305112838745\n",
      "[Iteration : 200] : 0.9743495583534241\n",
      "[Iteration : 250] : 0.9924830198287964\n",
      "[Iteration : 300] : 0.9679602384567261\n",
      "[Iteration : 350] : 1.0026109218597412\n",
      "[Iteration : 400] : 0.98929762840271\n",
      "[Iteration : 450] : 1.0417027473449707\n",
      "[Epoch : 8/10] : 1.0023045539855957\n",
      "Saving model... models/Exp02_try2/quicknat_epoch9.model\n",
      "[Iteration : 0] : 0.9810062646865845\n",
      "[Iteration : 50] : 0.9839968681335449\n",
      "[Iteration : 100] : 0.9854445457458496\n",
      "[Iteration : 150] : 0.9870760440826416\n",
      "[Iteration : 200] : 0.9917846322059631\n",
      "[Iteration : 250] : 0.9687425494194031\n",
      "[Iteration : 300] : 0.9719871878623962\n",
      "[Iteration : 350] : 0.989437997341156\n",
      "[Iteration : 400] : 0.9769144654273987\n",
      "[Iteration : 450] : 0.9789441823959351\n",
      "[Epoch : 9/10] : 0.9985644817352295\n",
      "Saving model... models/Exp02_try2/quicknat_epoch10.model\n",
      "FINISH.\n"
     ]
    }
   ],
   "source": [
    "from networks.quickNAT import quickNAT\n",
    "from networks.solver import Solver\n",
    "\n",
    "\n",
    "train_loader = torch.utils.data.DataLoader(train_data, batch_size=4, shuffle=True, num_workers=4)\n",
    "val_loader = torch.utils.data.DataLoader(test_data, batch_size=4, shuffle=False, num_workers=4)\n",
    "\n",
    "param ={\n",
    "        'num_channels':1,\n",
    "        'num_filters':64,\n",
    "        'kernel_h':5,\n",
    "        'kernel_w':5,\n",
    "        'kernel_c': 1,\n",
    "        'stride_conv':1,\n",
    "        'pool':2,\n",
    "        'stride_pool':2,\n",
    "        'num_class':28\n",
    "    }\n",
    "\n",
    "exp_dir_name = 'Exp02_try2'\n",
    "\n",
    "quicknat_model = quickNAT(param)\n",
    "solver = Solver(optim_args={\"lr\": 1e-2})\n",
    "solver.train(quicknat_model, train_loader, val_loader, log_nth=1, num_epochs=10, exp_dir_name=exp_dir_name)\n"
   ]
  },
  {
   "cell_type": "markdown",
   "metadata": {},
   "source": [
    "## Save the Model\n",
    "\n",
    "When you are satisfied with your training, you can save the model."
   ]
  },
  {
   "cell_type": "code",
   "execution_count": null,
   "metadata": {
    "collapsed": true
   },
   "outputs": [],
   "source": [
    "quicknat_model.save(\"models/quicknat_model.model\")"
   ]
  },
  {
   "cell_type": "markdown",
   "metadata": {},
   "source": [
    "# Deploy Model on Test Data"
   ]
  },
  {
   "cell_type": "code",
   "execution_count": 41,
   "metadata": {},
   "outputs": [
    {
     "data": {
      "image/png": "[encoded data removed]",
      "text/plain": [
       "<matplotlib.figure.Figure at 0x7f71b0b8c400>"
      ]
     },
     "metadata": {},
     "output_type": "display_data"
    },
    {
     "data": {
      "image/png": "[encoded data removed]",
      "text/plain": [
       "<matplotlib.figure.Figure at 0x7f71b0752518>"
      ]
     },
     "metadata": {},
     "output_type": "display_data"
    }
   ],
   "source": [
    "import matplotlib.pyplot as plt\n",
    "\n",
    "quick_model = torch.load('models/Exp02_try2/quicknat_epoch10.model')\n",
    "\n",
    "out = quicknat_model(Variable(torch.Tensor(test_data.X[200:201]).cuda(),volatile=True))\n",
    "max_val, idx = torch.max(out,1)\n",
    "idx = idx.data.cpu().numpy()\n",
    "idx = np.squeeze(idx)\n",
    "plt.imshow(idx)\n",
    "plt.show()\n",
    "\n",
    "img_test = test_data.y[200:201]\n",
    "img_test = np.squeeze(img_test)\n",
    "plt.imshow(img_test)\n",
    "plt.show()"
   ]
  },
  {
   "cell_type": "code",
   "execution_count": null,
   "metadata": {
    "collapsed": true
   },
   "outputs": [],
   "source": []
  }
 ],
 "metadata": {
  "kernelspec": {
   "display_name": "Python 3",
   "language": "python",
   "name": "python3"
  },
  "language_info": {
   "codemirror_mode": {
    "name": "ipython",
    "version": 3
   },
   "file_extension": ".py",
   "mimetype": "text/x-python",
   "name": "python",
   "nbconvert_exporter": "python",
   "pygments_lexer": "ipython3",
   "version": "3.5.4"
  }
 },
 "nbformat": 4,
 "nbformat_minor": 1
}
