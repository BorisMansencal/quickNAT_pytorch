{
 "cells": [
  {
   "cell_type": "code",
   "execution_count": 57,
   "metadata": {},
   "outputs": [],
   "source": [
    "import os\n",
    "os.environ[\"CUDA_VISIBLE_DEVICES\"]=\"0,1\""
   ]
  },
  {
   "cell_type": "markdown",
   "metadata": {},
   "source": [
    "## Imports and declarations"
   ]
  },
  {
   "cell_type": "code",
   "execution_count": 58,
   "metadata": {
    "collapsed": true
   },
   "outputs": [
    {
     "name": "stdout",
     "output_type": "stream",
     "text": [
      "The autoreload extension is already loaded. To reload it, use:\n",
      "  %reload_ext autoreload\n"
     ]
    }
   ],
   "source": [
    "import numpy as np\n",
    "import matplotlib.pyplot as plt\n",
    "import torch\n",
    "from torch.autograd import Variable\n",
    "\n",
    "from quickNat_pytorch.quickNAT import quickNAT\n",
    "from quickNat_pytorch.data_utils import get_data, get_imdb_data\n",
    "\n",
    "from quickNat_pytorch.net_api import squeeze_excitation as se\n",
    "from quickNat_pytorch.log_utils import LogWriter\n",
    "import quickNat_pytorch.evaluator as eu\n",
    "\n",
    "#torch.set_default_tensor_type('torch.FloatTensor')\n",
    "%matplotlib inline\n",
    "# for auto-reloading external modules\n",
    "# see http://stackoverflow.com/questions/1907993/autoreload-of-modules-in-ipython\n",
    "%load_ext autoreload\n",
    "%autoreload 2\n",
    "\n",
    "plt.rcParams['figure.figsize'] = (10.0, 8.0) # set default size of plots\n",
    "plt.rcParams['image.interpolation'] = 'nearest'\n",
    "plt.rcParams['image.cmap'] = 'gray'\n",
    "\n",
    "params ={\n",
    "    'common':{\n",
    "        'model_name' : 'quicknat',\n",
    "        'log_dir_name': 'logs',\n",
    "        'device' : 1\n",
    "    },\n",
    "    'data' : {\n",
    "        'base_dir' : \"datasets/coronal\",\n",
    "        'train_data_file' : \"Data_train.h5\", \n",
    "        'train_label_file' : \"Label_train.h5\",\n",
    "        'train_class_weights_file' : \"Class_Weight_train.h5\",        \n",
    "        'train_weights_file' : \"Weight_train.h5\",                \n",
    "        'test_data_file' : \"Data_test.h5\", \n",
    "        'test_label_file' : \"Label_test.h5\",         \n",
    "        'test_class_weights_file' : \"Class_Weight_test.h5\",       \n",
    "        'test_weights_file' : \"Weight_test.h5\",\n",
    "#        'labels' : ['Background','WM left','GM left','WM right','GM right','Ventricle left','Cerebellar WM left','Cerebellar GM left','Thalamus left','Caudate left',\n",
    "#                    'Putamen left','Pallidum left','3rd ventricle','4th ventricle','Brainstem','Hippo left','Amygdala left','VentralDC left','Ventricle right',\n",
    "#                    'Cerebellar WM right','Cerebellar GM right','Thalamus right','Caudate right','Putamen right','Pallidum right','Hippo right','Amygdala right',\n",
    "#                    'VentralDC right']        \n",
    "         'labels' : ['Background','Left WM','Left Cortex','Left Lateral ventricle','Left Inf LatVentricle','Left Cerebellum WM','Left Cerebellum Cortex',\n",
    "                     'Left Thalamus','Left Caudate','Left Putamen','Left Pallidum','3rd Ventricle','4th Ventricle','Brain Stem','Left Hippocampus',\n",
    "                     'Left Amygdala','CSF (Cranial)','Left Accumbens','Left Ventral DC','Right WM','Right Cortex','Right Lateral Ventricle',\n",
    "                     'Right Inf LatVentricle','Right Cerebellum WM','Right Cerebellum Cortex','Right Thalamus','Right Caudate','Right Putamen',\n",
    "                     'Right Pallidum','Right Hippocampus','Right Amygdala','Right Accumbens','Right Ventral DC']\n",
    "    },\n",
    "    'network' : { \n",
    "        'num_class': 33,\n",
    "        'num_channels':1,\n",
    "        'num_filters':64,\n",
    "        'kernel_h':5,\n",
    "        'kernel_w':5,\n",
    "        'kernel_c': 1,\n",
    "        'stride_conv':1,\n",
    "        'pool':2,\n",
    "        'stride_pool':2,\n",
    "        'se_block' : se.SELayer.NONE, # Valid options : se.SELayer.NONE, se.SELayer.CSE, se.SELayer.SSE, se.SELayer.CSSE\n",
    "        'drop_out' : 0 # Keep 0 for no dropout        \n",
    "    },\n",
    "    'training' : {        \n",
    "        'learning_rate': 1e-2,\n",
    "        'train_batch_size': 5,\n",
    "        'val_batch_size': 5,\n",
    "        'log_nth': 50,\n",
    "        'num_epochs': 10,\n",
    "        'lr_scheduler_step_size': 5,\n",
    "        'lr_scheduler_gamma' : 0.1,\n",
    "        'exp_dir_name': 'Exp01_try1',\n",
    "        'final_model_path': 'models/quicknat_final.pth.tar',\n",
    "        'use_last_checkpoint':False #Uses the last checkpoint file from the exp_dir_name folder\n",
    "    },\n",
    "    'eval':{\n",
    "        'eval_model_path': 'models/quicknat_final.pth.tar',\n",
    "        'data_dir': '/home/masterthesis/shayan/nas_drive/Data_Neuro/OASISchallenge/FS',\n",
    "        'label_dir': '/home/masterthesis/shayan/nas_drive/Data_Neuro/OASISchallenge',\n",
    "        'volumes_txt_file': 'datasets/test_volumes.txt',\n",
    "        'remap_config': 'Neo',\n",
    "        'orientation' : 'COR'\n",
    "    }\n",
    "}\n",
    "\n",
    "common_params, data_params, net_params, train_params, eval_params = params['common'], params['data'], params['network'], params['training'], params['eval']"
   ]
  },
  {
   "cell_type": "markdown",
   "metadata": {},
   "source": [
    "# Train QuickNAT"
   ]
  },
  {
   "cell_type": "markdown",
   "metadata": {},
   "source": [
    "## 1. Load Training and Validation Data"
   ]
  },
  {
   "cell_type": "code",
   "execution_count": 23,
   "metadata": {},
   "outputs": [
    {
     "name": "stdout",
     "output_type": "stream",
     "text": [
      "Train size: 1083\n",
      "Test size: 1032\n"
     ]
    }
   ],
   "source": [
    "#train_data, test_data = get_imdb_data()\n",
    "train_data, test_data = get_data(data_params)\n",
    "print(\"Train size: %i\" % len(train_data))\n",
    "print(\"Test size: %i\" % len(test_data))"
   ]
  },
  {
   "cell_type": "markdown",
   "metadata": {},
   "source": [
    "## 2. Train Model"
   ]
  },
  {
   "cell_type": "code",
   "execution_count": 59,
   "metadata": {
    "scrolled": false
   },
   "outputs": [
    {
     "name": "stdout",
     "output_type": "stream",
     "text": [
      "START TRAIN.\n",
      "train : [iteration : 0] : 1.4860464334487915\n",
      "train : [iteration : 50] : 0.935418963432312\n",
      "train : [iteration : 100] : 0.8621841669082642\n",
      "train : [iteration : 150] : 0.7615888118743896\n",
      "train : [iteration : 200] : 0.7339254021644592\n",
      "epoch train loss = 0.7649619579315186\n",
      "Sample Images...DONE\n",
      "Confusion Matrix...DONE\n",
      "epoch val loss = 1.01963459812\n",
      "Sample Images...DONE\n",
      "Confusion Matrix...DONE\n",
      "Dice Score...DONE\n",
      "==== Epoch [1 / 10] done ====\n",
      "train : [iteration : 0] : 0.7679557204246521\n",
      "train : [iteration : 50] : 0.699884295463562\n",
      "train : [iteration : 100] : 0.6449664235115051\n",
      "train : [iteration : 150] : 0.6503542065620422\n",
      "train : [iteration : 200] : 0.5553529262542725\n",
      "epoch train loss = 0.5970256924629211\n",
      "Sample Images...DONE\n",
      "Confusion Matrix...DONE\n",
      "epoch val loss = 0.808364183431\n",
      "Sample Images...DONE\n",
      "Confusion Matrix...DONE\n",
      "Dice Score...DONE\n",
      "==== Epoch [2 / 10] done ====\n",
      "train : [iteration : 0] : 0.6159087419509888\n",
      "train : [iteration : 50] : 0.46774643659591675\n",
      "train : [iteration : 100] : 0.3968806564807892\n",
      "train : [iteration : 150] : 0.46211785078048706\n",
      "train : [iteration : 200] : 0.4332461357116699\n",
      "epoch train loss = 0.8530413508415222\n",
      "Sample Images...DONE\n",
      "Confusion Matrix...DONE\n",
      "epoch val loss = 0.76159499636\n",
      "Sample Images...DONE\n",
      "Confusion Matrix...DONE\n",
      "Dice Score...DONE\n",
      "==== Epoch [3 / 10] done ====\n",
      "train : [iteration : 0] : 0.5647013187408447\n",
      "train : [iteration : 50] : 0.5924021601676941\n",
      "train : [iteration : 100] : 0.3548053801059723\n",
      "train : [iteration : 150] : 0.23530986905097961\n",
      "train : [iteration : 200] : 0.5722724199295044\n",
      "epoch train loss = 0.5440173149108887\n",
      "Sample Images...DONE\n",
      "Confusion Matrix...DONE\n",
      "epoch val loss = 0.716842874381\n",
      "Sample Images...DONE\n",
      "Confusion Matrix...DONE\n",
      "Dice Score...DONE\n",
      "==== Epoch [4 / 10] done ====\n",
      "train : [iteration : 0] : 0.40369176864624023\n",
      "train : [iteration : 50] : 0.32118213176727295\n",
      "train : [iteration : 100] : 0.30919909477233887\n",
      "train : [iteration : 150] : 0.4381173551082611\n",
      "train : [iteration : 200] : 0.516069769859314\n",
      "epoch train loss = 0.3777633011341095\n",
      "Sample Images...DONE\n",
      "Confusion Matrix...DONE\n",
      "epoch val loss = 0.722843440978\n",
      "Sample Images...DONE\n",
      "Confusion Matrix...DONE\n",
      "Dice Score...DONE\n",
      "==== Epoch [5 / 10] done ====\n",
      "train : [iteration : 0] : 0.5737698674201965\n",
      "train : [iteration : 50] : 0.5735082626342773\n",
      "train : [iteration : 100] : 0.29418185353279114\n",
      "train : [iteration : 150] : 0.3262454867362976\n",
      "train : [iteration : 200] : 0.5343245267868042\n",
      "epoch train loss = 0.5052599310874939\n",
      "Sample Images...DONE\n",
      "Confusion Matrix...DONE\n",
      "epoch val loss = 0.698632126413\n",
      "Sample Images...DONE\n",
      "Confusion Matrix...DONE\n",
      "Dice Score...DONE\n",
      "==== Epoch [6 / 10] done ====\n",
      "train : [iteration : 0] : 0.5077351927757263\n",
      "train : [iteration : 50] : 0.6252428889274597\n",
      "train : [iteration : 100] : 0.5396777987480164\n",
      "train : [iteration : 150] : 0.4334077835083008\n",
      "train : [iteration : 200] : 0.7355539202690125\n",
      "epoch train loss = 0.39262908697128296\n",
      "Sample Images...DONE\n",
      "Confusion Matrix...DONE\n",
      "epoch val loss = 0.685550917318\n",
      "Sample Images...DONE\n",
      "Confusion Matrix...DONE\n",
      "Dice Score...DONE\n",
      "==== Epoch [7 / 10] done ====\n",
      "train : [iteration : 0] : 0.2530079185962677\n",
      "train : [iteration : 50] : 0.5301479697227478\n",
      "train : [iteration : 100] : 0.319571852684021\n",
      "train : [iteration : 150] : 0.2809799313545227\n",
      "train : [iteration : 200] : 0.31485894322395325\n",
      "epoch train loss = 0.4594670236110687\n",
      "Sample Images...DONE\n",
      "Confusion Matrix...DONE\n",
      "epoch val loss = 0.686947163896\n",
      "Sample Images...DONE\n",
      "Confusion Matrix...DONE\n",
      "Dice Score...DONE\n",
      "==== Epoch [8 / 10] done ====\n",
      "train : [iteration : 0] : 0.42116084694862366\n",
      "train : [iteration : 50] : 0.3502774238586426\n",
      "train : [iteration : 100] : 0.5456685423851013\n",
      "train : [iteration : 150] : 0.322770357131958\n",
      "train : [iteration : 200] : 0.44811272621154785\n",
      "epoch train loss = 0.692883312702179\n",
      "Sample Images...DONE\n",
      "Confusion Matrix...DONE\n",
      "epoch val loss = 0.675165243195\n",
      "Sample Images...DONE\n",
      "Confusion Matrix...DONE\n",
      "Dice Score...DONE\n",
      "==== Epoch [9 / 10] done ====\n",
      "train : [iteration : 0] : 0.23338128626346588\n",
      "train : [iteration : 50] : 0.22967834770679474\n",
      "train : [iteration : 100] : 0.23725681006908417\n",
      "train : [iteration : 150] : 0.5791983604431152\n",
      "train : [iteration : 200] : 0.21747563779354095\n",
      "epoch train loss = 0.27441588044166565\n",
      "Sample Images...DONE\n",
      "Confusion Matrix...DONE\n",
      "epoch val loss = 0.676219796213\n",
      "Sample Images...DONE\n",
      "Confusion Matrix...DONE\n",
      "Dice Score...DONE\n",
      "==== Epoch [10 / 10] done ====\n",
      "FINISH.\n"
     ]
    }
   ],
   "source": [
    "from quickNat_pytorch.quickNAT import quickNAT\n",
    "from quickNat_pytorch.solver import Solver\n",
    "\n",
    "train_loader = torch.utils.data.DataLoader(train_data, batch_size=train_params['train_batch_size'], shuffle=True, num_workers=4, pin_memory = True)\n",
    "val_loader = torch.utils.data.DataLoader(test_data, batch_size=train_params['val_batch_size'], shuffle=False, num_workers=4, pin_memory = True)\n",
    "\n",
    "quicknat_model = quickNAT(params['network'])\n",
    "\n",
    "solver = Solver(quicknat_model,\n",
    "                device = common_params['device'],\n",
    "                num_class = net_params['num_class'],\n",
    "                optim_args={\"lr\": train_params['learning_rate']},\n",
    "                model_name = common_params['model_name'],\n",
    "                labels = data_params['labels'],\n",
    "                log_nth=train_params['log_nth'], \n",
    "                num_epochs=train_params['num_epochs'], \n",
    "                log_dir_name = common_params['log_dir_name'],\n",
    "                exp_dir_name=train_params['exp_dir_name'], \n",
    "                lr_scheduler_step_size = train_params['lr_scheduler_step_size'], \n",
    "                lr_scheduler_gamma = train_params['lr_scheduler_gamma'],\n",
    "                use_last_checkpoint =train_params['use_last_checkpoint'])\n",
    "\n",
    "solver.train(train_loader, val_loader)"
   ]
  },
  {
   "cell_type": "markdown",
   "metadata": {},
   "source": [
    "# Save the Model\n",
    "\n",
    "When you are satisfied with your training, you can save the model."
   ]
  },
  {
   "cell_type": "code",
   "execution_count": 60,
   "metadata": {},
   "outputs": [
    {
     "name": "stdout",
     "output_type": "stream",
     "text": [
      "Saving model... models/quicknat_final.pth.tar\n"
     ]
    },
    {
     "data": {
      "image/png": "[encoded data removed]",
      "text/plain": [
       "<matplotlib.figure.Figure at 0x7f26d057f240>"
      ]
     },
     "metadata": {},
     "output_type": "display_data"
    }
   ],
   "source": [
    "quicknat_model.save(train_params['final_model_path'])"
   ]
  },
  {
   "cell_type": "markdown",
   "metadata": {},
   "source": [
    "# Evaluate Model"
   ]
  },
  {
   "cell_type": "markdown",
   "metadata": {},
   "source": [
    "## 1. Calculate dice score of each volume"
   ]
  },
  {
   "cell_type": "code",
   "execution_count": 61,
   "metadata": {},
   "outputs": [
    {
     "name": "stdout",
     "output_type": "stream",
     "text": [
      "**Starting evaluation on the volumes. Please check tensorboard for dice score plots if a logWriter is provided in arguments**\n",
      "Loading data volumes\n",
      "Data loaded succssfully\n",
      "Volume 0 evaluated\n",
      "Volume 1 evaluated\n",
      "Volume 2 evaluated\n",
      "Volume 3 evaluated\n",
      "Volume 4 evaluated\n",
      "Volume 5 evaluated\n",
      "Volume 6 evaluated\n",
      "Volume 7 evaluated\n",
      "Volume 8 evaluated\n",
      "Volume 9 evaluated\n",
      "Volume 10 evaluated\n",
      "Volume 11 evaluated\n",
      "Volume 12 evaluated\n",
      "Volume 13 evaluated\n",
      "Volume 14 evaluated\n",
      "**End**\n"
     ]
    }
   ],
   "source": [
    "eval_model_path = eval_params['eval_model_path']\n",
    "num_classes = net_params['num_class']\n",
    "labels = data_params['labels']\n",
    "data_dir = eval_params['data_dir']\n",
    "label_dir = eval_params['label_dir']\n",
    "volumes_txt_file = eval_params['volumes_txt_file']\n",
    "remap_config = eval_params['remap_config']\n",
    "device = common_params['device']\n",
    "log_dir_name = common_params['log_dir_name']\n",
    "exp_dir_name = train_params['exp_dir_name']\n",
    "orientation = eval_params['orientation']\n",
    "\n",
    "logWriter = LogWriter(num_classes, log_dir_name, exp_dir_name, labels=labels)\n",
    "\n",
    "avg_dice_score, volume_dice_score_list = eu.evaluate_dice_score(eval_model_path, \n",
    "                                                                num_classes, \n",
    "                                                                data_dir, \n",
    "                                                                label_dir, \n",
    "                                                                volumes_txt_file , \n",
    "                                                                remap_config, \n",
    "                                                                orientation, \n",
    "                                                                device, \n",
    "                                                                logWriter)"
   ]
  },
  {
   "cell_type": "markdown",
   "metadata": {},
   "source": [
    "## 2. Plot average dice score of all the volumes"
   ]
  },
  {
   "cell_type": "code",
   "execution_count": 6,
   "metadata": {},
   "outputs": [
    {
     "data": {
      "image/png": "[encoded data removed]",
      "text/plain": [
       "<matplotlib.figure.Figure at 0x7f68704fd5c0>"
      ]
     },
     "metadata": {},
     "output_type": "display_data"
    }
   ],
   "source": [
    "fig, ax = plt.subplots(nrows=1, ncols=1,figsize=(20,10))\n",
    "ax.bar(np.arange(num_classes), avg_dice_score)\n",
    "ax.set_xlabel('Average Dice Score', fontsize=20, color='blue')        \n",
    "ax.set_xticks(np.arange(num_classes))\n",
    "c = ax.set_xticklabels(labels, fontsize=15, rotation=-90,  ha='center', color='blue')\n",
    "ax.xaxis.set_label_position('top')\n",
    "ax.tick_params(axis='y', colors='blue')\n",
    "ax.xaxis.tick_bottom()\n",
    "plt.show()"
   ]
  },
  {
   "cell_type": "markdown",
   "metadata": {},
   "source": [
    "# Test"
   ]
  },
  {
   "cell_type": "markdown",
   "metadata": {},
   "source": [
    "## 1. Load test model"
   ]
  },
  {
   "cell_type": "code",
   "execution_count": null,
   "metadata": {},
   "outputs": [],
   "source": [
    "quick_model_test = torch.load(train_params['final_model_path'])"
   ]
  },
  {
   "cell_type": "markdown",
   "metadata": {},
   "source": [
    "## 2. Predict a few sample slices"
   ]
  },
  {
   "cell_type": "code",
   "execution_count": 16,
   "metadata": {},
   "outputs": [
    {
     "data": {
      "image/png": "[encoded data removed]",
      "text/plain": [
       "<matplotlib.figure.Figure at 0x7ff296d426a0>"
      ]
     },
     "metadata": {},
     "output_type": "display_data"
    }
   ],
   "source": [
    "with torch.no_grad():\n",
    "    test_input = Variable(torch.Tensor(test_data.X[1000:1001]).cuda(common_params['device']))\n",
    "    out = quick_model_test.predict(test_input, 1)\n",
    "    \n",
    "groud_truth = test_data.y[1000:1001]\n",
    "groud_truth = np.squeeze(groud_truth)    \n",
    "\n",
    "fig, ax = plt.subplots(nrows=1, ncols=2,figsize=(20,20))\n",
    "ax[0].imshow(out, cmap ='jet', vmin=0, vmax=net_params['num_class']-1)\n",
    "\n",
    "ax[0].set_title(\"Predicted\", fontsize=10, color = \"green\")\n",
    "ax[0].axis('off')\n",
    "ax[1].imshow(groud_truth, cmap ='jet', vmin=0, vmax=net_params['num_class']-1)\n",
    "ax[1].set_title(\"Ground Truth\", fontsize=10, color = \"green\")\n",
    "ax[1].axis('off')\n",
    "plt.show()"
   ]
  }
 ],
 "metadata": {
  "kernelspec": {
   "display_name": "Python 3",
   "language": "python",
   "name": "python3"
  },
  "language_info": {
   "codemirror_mode": {
    "name": "ipython",
    "version": 3
   },
   "file_extension": ".py",
   "mimetype": "text/x-python",
   "name": "python",
   "nbconvert_exporter": "python",
   "pygments_lexer": "ipython3",
   "version": "3.6.3"
  }
 },
 "nbformat": 4,
 "nbformat_minor": 2
}
