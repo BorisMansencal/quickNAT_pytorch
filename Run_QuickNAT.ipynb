{
 "cells": [
  {
   "cell_type": "code",
   "execution_count": 10,
   "metadata": {},
   "outputs": [],
   "source": [
    "import os\n",
    "os.environ[\"CUDA_VISIBLE_DEVICES\"]=\"0,1\""
   ]
  },
  {
   "cell_type": "markdown",
   "metadata": {},
   "source": [
    "## Train QuickNAT\n",
    "Working code! Details coming soon!"
   ]
  },
  {
   "cell_type": "code",
   "execution_count": 11,
   "metadata": {
    "collapsed": true
   },
   "outputs": [
    {
     "name": "stdout",
     "output_type": "stream",
     "text": [
      "The autoreload extension is already loaded. To reload it, use:\n",
      "  %reload_ext autoreload\n"
     ]
    }
   ],
   "source": [
    "import numpy as np\n",
    "import matplotlib.pyplot as plt\n",
    "import torch\n",
    "from torch.autograd import Variable\n",
    "\n",
    "from quickNat_pytorch.quickNAT import quickNAT\n",
    "from quickNat_pytorch.data_utils import get_data, get_imdb_data\n",
    "\n",
    "from quickNat_pytorch.net_api import squeeze_excitation as se\n",
    "\n",
    "#torch.set_default_tensor_type('torch.FloatTensor')\n",
    "%matplotlib inline\n",
    "# for auto-reloading external modules\n",
    "# see http://stackoverflow.com/questions/1907993/autoreload-of-modules-in-ipython\n",
    "%load_ext autoreload\n",
    "%autoreload 2\n",
    "\n",
    "plt.rcParams['figure.figsize'] = (10.0, 8.0) # set default size of plots\n",
    "plt.rcParams['image.interpolation'] = 'nearest'\n",
    "plt.rcParams['image.cmap'] = 'gray'\n",
    "\n",
    "params ={\n",
    "    'common':{\n",
    "        'model_name' : 'quicknat',\n",
    "        'log_dir_name': 'logs'\n",
    "    },\n",
    "    'data' : {\n",
    "        'base_dir' : \"datasets/coronal\",\n",
    "        'train_data_file' : \"Data_train.h5\", \n",
    "        'train_label_file' : \"Label_train.h5\",\n",
    "        'train_class_weights_file' : \"Class_Weight_train.h5\",        \n",
    "        'train_weights_file' : \"Weight_train.h5\",                \n",
    "        'test_data_file' : \"Data_test.h5\", \n",
    "        'test_label_file' : \"Label_test.h5\",         \n",
    "        'test_class_weights_file' : \"Class_Weight_test.h5\",       \n",
    "        'test_weights_file' : \"Weight_test.h5\",\n",
    "        'labels' : ['Background','WM left','GM left','WM right','GM right','Ventricle left','Cerebellar WM left','Cerebellar GM left','Thalamus left','Caudate left',\n",
    "                    'Putamen left','Pallidum left','3rd ventricle','4th ventricle','Brainstem','Hippo left','Amygdala left','VentralDC left','Ventricle right',\n",
    "                    'Cerebellar WM right','Cerebellar GM right','Thalamus right','Caudate right','Putamen right','Pallidum right','Hippo right','Amygdala right',\n",
    "                    'VentralDC right']        \n",
    "#         'labels' : ['Background','Left WM','Left Cortex','Left Lateral ventricle','Left Inf LatVentricle','Left Cerebellum WM','Left Cerebellum Cortex',\n",
    "#                     'Left Thalamus','Left Caudate','Left Putamen','Left Pallidum','3rd Ventricle','4th Ventricle','Brain Stem','Left Hippocampus',\n",
    "#                     'Left Amygdala','CSF (Cranial)','Left Accumbens','Left Ventral DC','Right WM','Right Cortex','Right Lateral Ventricle',\n",
    "#                     'Right Inf LatVentricle','Right Cerebellum WM','Right Cerebellum Cortex','Right Thalamus','Right Caudate','Right Putamen',\n",
    "#                     'Right Pallidum','Right Hippocampus','Right Amygdala','Right Accumbens','Right Ventral DC']\n",
    "    },\n",
    "    'network' : { \n",
    "        'num_class': 28,\n",
    "        'num_channels':1,\n",
    "        'num_filters':64,\n",
    "        'kernel_h':5,\n",
    "        'kernel_w':5,\n",
    "        'kernel_c': 1,\n",
    "        'stride_conv':1,\n",
    "        'pool':2,\n",
    "        'stride_pool':2,\n",
    "        'se_block' : se.SELayer.NONE, # Valid options : se.SELayer.NONE, se.SELayer.CSE, se.SELayer.SSE, se.SELayer.CSSE\n",
    "        'drop_out' : 0 # Keep 0 for no dropout        \n",
    "    },\n",
    "    'training' : {        \n",
    "        'learning_rate': 1e-3,\n",
    "        'train_batch_size': 10,\n",
    "        'val_batch_size': 10,\n",
    "        'log_nth': 50,\n",
    "        'num_epochs': 10,\n",
    "        'lr_scheduler_step_size': 2,\n",
    "        'lr_scheduler_gamma' : 0.5,\n",
    "        'exp_dir_name': 'Exp01_try1',\n",
    "        'final_model_path': 'models/quicknat_final.model',\n",
    "        'use_last_checkpoint':False #Uses the last checkpoint file from the exp_dir_name folder\n",
    "    }\n",
    "}\n",
    "\n",
    "common_params, train_params, net_params, data_params = params['common'], params['training'], params['network'], params['data']"
   ]
  },
  {
   "cell_type": "markdown",
   "metadata": {},
   "source": [
    "## Load Data"
   ]
  },
  {
   "cell_type": "code",
   "execution_count": null,
   "metadata": {},
   "outputs": [
    {
     "name": "stdout",
     "output_type": "stream",
     "text": [
      "(3240, 256, 256)\n",
      "27.0\n",
      "0.0\n",
      "Train size: 1890\n",
      "Test size: 1350\n"
     ]
    }
   ],
   "source": [
    "#train_data, test_data = get_data(data_params)\n",
    "train_data, test_data = get_imdb_data()\n",
    "print(\"Train size: %i\" % len(train_data))\n",
    "print(\"Test size: %i\" % len(test_data))"
   ]
  },
  {
   "cell_type": "markdown",
   "metadata": {},
   "source": [
    "## Train Model"
   ]
  },
  {
   "cell_type": "code",
   "execution_count": null,
   "metadata": {
    "scrolled": false
   },
   "outputs": [
    {
     "name": "stdout",
     "output_type": "stream",
     "text": [
      "START TRAIN.\n",
      "train : [iteration : 50] : 1.2950456142425537\n",
      "train : [iteration : 100] : 1.0012028217315674\n",
      "train : [iteration : 150] : 0.9550669193267822\n",
      "epoch train loss = 0.7944924235343933\n",
      "epoch val loss = 16.6768625825\n",
      "==== Epoch [1 / 10] done ====\n",
      "Saving model... models/Exp01_try1/quicknat_epoch1.model\n",
      "train : [iteration : 200] : 0.7256602048873901\n",
      "train : [iteration : 250] : 0.5934489965438843\n",
      "train : [iteration : 300] : 0.45085614919662476\n",
      "train : [iteration : 350] : 0.35124391317367554\n",
      "epoch train loss = 0.3171236217021942\n",
      "epoch val loss = 7.25762307202\n",
      "==== Epoch [2 / 10] done ====\n",
      "Saving model... models/Exp01_try1/quicknat_epoch2.model\n",
      "train : [iteration : 400] : 0.35077619552612305\n",
      "train : [iteration : 450] : 0.29271945357322693\n",
      "train : [iteration : 500] : 0.2851443588733673\n",
      "train : [iteration : 550] : 0.25570017099380493\n",
      "epoch train loss = 0.20211762189865112\n",
      "epoch val loss = 3.26889257343\n",
      "==== Epoch [3 / 10] done ====\n",
      "Saving model... models/Exp01_try1/quicknat_epoch3.model\n",
      "train : [iteration : 600] : 0.42923861742019653\n",
      "train : [iteration : 650] : 0.27744752168655396\n",
      "train : [iteration : 700] : 0.2504933476448059\n",
      "train : [iteration : 750] : 0.18358497321605682\n",
      "epoch train loss = 0.1558728963136673\n"
     ]
    }
   ],
   "source": [
    "from quickNat_pytorch.quickNAT import quickNAT\n",
    "from quickNat_pytorch.solver import Solver\n",
    "\n",
    "train_loader = torch.utils.data.DataLoader(train_data, batch_size=train_params['train_batch_size'], shuffle=True, num_workers=4, pin_memory = True)\n",
    "val_loader = torch.utils.data.DataLoader(test_data, batch_size=train_params['val_batch_size'], shuffle=False, num_workers=4, pin_memory = True)\n",
    "\n",
    "quicknat_model = quickNAT(params['network'])\n",
    "\n",
    "solver = Solver(quicknat_model,\n",
    "                num_class = net_params['num_class'],\n",
    "                optim_args={\"lr\": train_params['learning_rate']},\n",
    "                model_name = common_params['model_name'],\n",
    "                labels = data_params['labels'],\n",
    "                log_nth=train_params['log_nth'], \n",
    "                num_epochs=train_params['num_epochs'], \n",
    "                log_dir_name = common_params['log_dir_name'],\n",
    "                exp_dir_name=train_params['exp_dir_name'], \n",
    "                lr_scheduler_step_size = train_params['lr_scheduler_step_size'], \n",
    "                lr_scheduler_gamma = train_params['lr_scheduler_gamma'],\n",
    "                use_last_checkpoint =train_params['use_last_checkpoint'])\n",
    "\n",
    "solver.train(train_loader, val_loader)"
   ]
  },
  {
   "cell_type": "markdown",
   "metadata": {},
   "source": [
    "## Save the Model\n",
    "\n",
    "When you are satisfied with your training, you can save the model."
   ]
  },
  {
   "cell_type": "code",
   "execution_count": 77,
   "metadata": {},
   "outputs": [
    {
     "name": "stdout",
     "output_type": "stream",
     "text": [
      "Saving model... models/quicknat_final.model\n"
     ]
    }
   ],
   "source": [
    "quicknat_model.save(train_params['final_model_path'])"
   ]
  },
  {
   "cell_type": "markdown",
   "metadata": {},
   "source": [
    "## Deploy Model on Test Data"
   ]
  },
  {
   "cell_type": "code",
   "execution_count": 78,
   "metadata": {},
   "outputs": [
    {
     "data": {
      "image/png": "[encoded data removed]",
      "text/plain": [
       "<matplotlib.figure.Figure at 0x7f16a36ce7b8>"
      ]
     },
     "metadata": {},
     "output_type": "display_data"
    }
   ],
   "source": [
    "import matplotlib.pyplot as plt\n",
    "\n",
    "quick_model = torch.load(train_params['final_model_path'])\n",
    "#quick_model = torch.load('models/Exp01_try1/quicknat_epoch2.model')\n",
    "with torch.no_grad():\n",
    "    test_input = Variable(torch.Tensor(test_data.X[1000:1001]).cuda())\n",
    "    out = quick_model.predict(test_input)\n",
    "    \n",
    "groud_truth = test_data.y[1000:1001]\n",
    "groud_truth = np.squeeze(groud_truth)    \n",
    "\n",
    "\n",
    "fig, ax = plt.subplots(nrows=1, ncols=2,figsize=(20,20))\n",
    "ax[0].imshow(out, cmap ='jet', vmin=0, vmax=net_params['num_class']-1)\n",
    "\n",
    "ax[0].set_title(\"Predicted\", fontsize=10, color = \"green\")\n",
    "ax[0].axis('off')\n",
    "ax[1].imshow(groud_truth, cmap ='jet', vmin=0, vmax=net_params['num_class']-1)\n",
    "ax[1].set_title(\"Ground Truth\", fontsize=10, color = \"green\")\n",
    "ax[1].axis('off')\n",
    "plt.show()"
   ]
  }
 ],
 "metadata": {
  "kernelspec": {
   "display_name": "Python 3",
   "language": "python",
   "name": "python3"
  },
  "language_info": {
   "codemirror_mode": {
    "name": "ipython",
    "version": 3
   },
   "file_extension": ".py",
   "mimetype": "text/x-python",
   "name": "python",
   "nbconvert_exporter": "python",
   "pygments_lexer": "ipython3",
   "version": "3.6.3"
  }
 },
 "nbformat": 4,
 "nbformat_minor": 2
}
