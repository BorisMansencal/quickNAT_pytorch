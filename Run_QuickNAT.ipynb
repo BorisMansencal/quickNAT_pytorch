{
 "cells": [
  {
   "cell_type": "code",
   "execution_count": 25,
   "metadata": {},
   "outputs": [],
   "source": [
    "import os\n",
    "os.environ[\"CUDA_VISIBLE_DEVICES\"]=\"0,1\""
   ]
  },
  {
   "cell_type": "markdown",
   "metadata": {},
   "source": [
    "## Imports and declarations"
   ]
  },
  {
   "cell_type": "code",
   "execution_count": 36,
   "metadata": {
    "collapsed": true
   },
   "outputs": [
    {
     "name": "stdout",
     "output_type": "stream",
     "text": [
      "The autoreload extension is already loaded. To reload it, use:\n",
      "  %reload_ext autoreload\n"
     ]
    }
   ],
   "source": [
    "import numpy as np\n",
    "import matplotlib.pyplot as plt\n",
    "import torch\n",
    "from torch.autograd import Variable\n",
    "\n",
    "from quickNat_pytorch.quickNAT import quickNAT\n",
    "from quickNat_pytorch.data_utils import get_data, get_imdb_data\n",
    "\n",
    "from quickNat_pytorch.net_api import squeeze_excitation as se\n",
    "from quickNat_pytorch.log_utils import LogWriter\n",
    "import quickNat_pytorch.evaluator_utils as eu\n",
    "\n",
    "#torch.set_default_tensor_type('torch.FloatTensor')\n",
    "%matplotlib inline\n",
    "# for auto-reloading external modules\n",
    "# see http://stackoverflow.com/questions/1907993/autoreload-of-modules-in-ipython\n",
    "%load_ext autoreload\n",
    "%autoreload 2\n",
    "\n",
    "plt.rcParams['figure.figsize'] = (10.0, 8.0) # set default size of plots\n",
    "plt.rcParams['image.interpolation'] = 'nearest'\n",
    "plt.rcParams['image.cmap'] = 'gray'\n",
    "\n",
    "params ={\n",
    "    'common':{\n",
    "        'model_name' : 'quicknat',\n",
    "        'log_dir_name': 'logs',\n",
    "        'device' : 1\n",
    "    },\n",
    "    'data' : {\n",
    "        'base_dir' : \"datasets/coronal\",\n",
    "        'train_data_file' : \"Data_train.h5\", \n",
    "        'train_label_file' : \"Label_train.h5\",\n",
    "        'train_class_weights_file' : \"Class_Weight_train.h5\",        \n",
    "        'train_weights_file' : \"Weight_train.h5\",                \n",
    "        'test_data_file' : \"Data_test.h5\", \n",
    "        'test_label_file' : \"Label_test.h5\",         \n",
    "        'test_class_weights_file' : \"Class_Weight_test.h5\",       \n",
    "        'test_weights_file' : \"Weight_test.h5\",\n",
    "        'labels' : ['Background','WM left','GM left','WM right','GM right','Ventricle left','Cerebellar WM left','Cerebellar GM left','Thalamus left','Caudate left',\n",
    "                    'Putamen left','Pallidum left','3rd ventricle','4th ventricle','Brainstem','Hippo left','Amygdala left','VentralDC left','Ventricle right',\n",
    "                    'Cerebellar WM right','Cerebellar GM right','Thalamus right','Caudate right','Putamen right','Pallidum right','Hippo right','Amygdala right',\n",
    "                    'VentralDC right']        \n",
    "#         'labels' : ['Background','Left WM','Left Cortex','Left Lateral ventricle','Left Inf LatVentricle','Left Cerebellum WM','Left Cerebellum Cortex',\n",
    "#                     'Left Thalamus','Left Caudate','Left Putamen','Left Pallidum','3rd Ventricle','4th Ventricle','Brain Stem','Left Hippocampus',\n",
    "#                     'Left Amygdala','CSF (Cranial)','Left Accumbens','Left Ventral DC','Right WM','Right Cortex','Right Lateral Ventricle',\n",
    "#                     'Right Inf LatVentricle','Right Cerebellum WM','Right Cerebellum Cortex','Right Thalamus','Right Caudate','Right Putamen',\n",
    "#                     'Right Pallidum','Right Hippocampus','Right Amygdala','Right Accumbens','Right Ventral DC']\n",
    "    },\n",
    "    'network' : { \n",
    "        'num_class': 28,\n",
    "        'num_channels':1,\n",
    "        'num_filters':64,\n",
    "        'kernel_h':5,\n",
    "        'kernel_w':5,\n",
    "        'kernel_c': 1,\n",
    "        'stride_conv':1,\n",
    "        'pool':2,\n",
    "        'stride_pool':2,\n",
    "        'se_block' : se.SELayer.NONE, # Valid options : se.SELayer.NONE, se.SELayer.CSE, se.SELayer.SSE, se.SELayer.CSSE\n",
    "        'drop_out' : 0 # Keep 0 for no dropout        \n",
    "    },\n",
    "    'training' : {        \n",
    "        'learning_rate': 1e-3,\n",
    "        'train_batch_size': 5,\n",
    "        'val_batch_size': 5,\n",
    "        'log_nth': 50,\n",
    "        'num_epochs': 10,\n",
    "        'lr_scheduler_step_size': 2,\n",
    "        'lr_scheduler_gamma' : 0.5,\n",
    "        'exp_dir_name': 'Exp01_try2',\n",
    "        'final_model_path': 'models/quicknat_final.model',\n",
    "        'use_last_checkpoint':False #Uses the last checkpoint file from the exp_dir_name folder\n",
    "    },\n",
    "    'eval':{\n",
    "        'eval_model_path': 'models/Exp01_try2/quicknat_epoch10.model',\n",
    "        'data_dir': '/home/masterthesis/shayan/nas_drive/Data_Neuro/OASISchallenge/FS',\n",
    "        'label_dir': '/home/masterthesis/shayan/nas_drive/Data_Neuro/OASISchallenge',\n",
    "        'volumes_txt_file': 'datasets/test_volumes.txt',\n",
    "        'remap_config': 'Neo'\n",
    "    }\n",
    "}\n",
    "\n",
    "common_params, data_params, net_params, train_params, eval_params = params['common'], params['data'], params['network'], params['training'], params['eval']"
   ]
  },
  {
   "cell_type": "markdown",
   "metadata": {},
   "source": [
    "# Train QuickNAT"
   ]
  },
  {
   "cell_type": "markdown",
   "metadata": {},
   "source": [
    "## 1. Load Training and Validation Data"
   ]
  },
  {
   "cell_type": "code",
   "execution_count": 29,
   "metadata": {},
   "outputs": [
    {
     "name": "stdout",
     "output_type": "stream",
     "text": [
      "Train size: 1083\n",
      "Test size: 1032\n"
     ]
    },
    {
     "data": {
      "text/plain": [
       "(1083, 256, 256)"
      ]
     },
     "execution_count": 29,
     "metadata": {},
     "output_type": "execute_result"
    }
   ],
   "source": [
    "train_data, test_data = get_data(data_params)\n",
    "#train_data, test_data = get_imdb_data()\n",
    "print(\"Train size: %i\" % len(train_data))\n",
    "print(\"Test size: %i\" % len(test_data))\n",
    "train_data.y.shape"
   ]
  },
  {
   "cell_type": "markdown",
   "metadata": {},
   "source": [
    "## 2. Train Model"
   ]
  },
  {
   "cell_type": "code",
   "execution_count": null,
   "metadata": {
    "scrolled": false
   },
   "outputs": [
    {
     "name": "stdout",
     "output_type": "stream",
     "text": [
      "START TRAIN.\n",
      "train : [iteration : 50] : 1.1665081977844238\n",
      "train : [iteration : 100] : 1.1136773824691772\n",
      "train : [iteration : 150] : 0.8933287858963013\n",
      "train : [iteration : 200] : 0.8471505641937256\n",
      "train : [iteration : 250] : 0.7306355237960815\n",
      "train : [iteration : 300] : 0.6495028138160706\n",
      "train : [iteration : 350] : 0.5487346649169922\n",
      "epoch train loss = 0.518830418586731\n",
      "epoch val loss = 0.839887562946\n",
      "==== Epoch [1 / 10] done ====\n",
      "Saving model... models/Exp01_try2/quicknat_epoch1.model\n",
      "train : [iteration : 400] : 0.5418012142181396\n",
      "train : [iteration : 450] : 0.3953784704208374\n",
      "train : [iteration : 500] : 0.4984826445579529\n",
      "train : [iteration : 550] : 0.39306211471557617\n",
      "train : [iteration : 600] : 0.6598386168479919\n",
      "train : [iteration : 650] : 0.30352723598480225\n",
      "train : [iteration : 700] : 0.3296193480491638\n",
      "train : [iteration : 750] : 0.4354318380355835\n",
      "epoch train loss = 0.2971770763397217\n",
      "epoch val loss = 0.767653433261\n",
      "==== Epoch [2 / 10] done ====\n",
      "Saving model... models/Exp01_try2/quicknat_epoch2.model\n",
      "train : [iteration : 800] : 0.3315929174423218\n",
      "train : [iteration : 850] : 0.35218527913093567\n",
      "train : [iteration : 900] : 0.2623845934867859\n",
      "train : [iteration : 950] : 0.3252873718738556\n",
      "train : [iteration : 1000] : 0.3137162923812866\n",
      "train : [iteration : 1050] : 0.21009746193885803\n",
      "train : [iteration : 1100] : 0.47431138157844543\n",
      "epoch train loss = 0.49159735441207886\n",
      "epoch val loss = 0.746118189119\n",
      "==== Epoch [3 / 10] done ====\n",
      "Saving model... models/Exp01_try2/quicknat_epoch3.model\n",
      "train : [iteration : 1150] : 0.23233279585838318\n",
      "train : [iteration : 1200] : 0.32615044713020325\n",
      "train : [iteration : 1250] : 0.3061429262161255\n",
      "train : [iteration : 1300] : 0.19817782938480377\n",
      "train : [iteration : 1350] : 0.19841459393501282\n",
      "train : [iteration : 1400] : 0.3679780960083008\n",
      "train : [iteration : 1450] : 0.26472631096839905\n",
      "train : [iteration : 1500] : 0.29447782039642334\n",
      "epoch train loss = 0.2051408737897873\n",
      "epoch val loss = 0.733240273153\n",
      "==== Epoch [4 / 10] done ====\n",
      "Saving model... models/Exp01_try2/quicknat_epoch4.model\n",
      "train : [iteration : 1550] : 0.3698672950267792\n",
      "train : [iteration : 1600] : 0.15050874650478363\n",
      "train : [iteration : 1650] : 0.3043553829193115\n",
      "train : [iteration : 1700] : 0.4508724808692932\n",
      "train : [iteration : 1750] : 0.6593300700187683\n",
      "train : [iteration : 1800] : 0.5704742670059204\n",
      "train : [iteration : 1850] : 0.2698690593242645\n",
      "epoch train loss = 0.46208879351615906\n",
      "epoch val loss = 0.727926109014\n",
      "==== Epoch [5 / 10] done ====\n",
      "Saving model... models/Exp01_try2/quicknat_epoch5.model\n",
      "train : [iteration : 1900] : 0.15657693147659302\n",
      "train : [iteration : 1950] : 0.15697991847991943\n",
      "train : [iteration : 2000] : 0.2788769602775574\n",
      "train : [iteration : 2050] : 0.15173673629760742\n",
      "train : [iteration : 2100] : 0.20303289592266083\n",
      "train : [iteration : 2150] : 0.5047377347946167\n",
      "train : [iteration : 2200] : 0.2983930706977844\n",
      "train : [iteration : 2250] : 0.14286163449287415\n",
      "epoch train loss = 0.6626664400100708\n",
      "epoch val loss = 0.728730838056\n",
      "==== Epoch [6 / 10] done ====\n",
      "Saving model... models/Exp01_try2/quicknat_epoch6.model\n",
      "train : [iteration : 2300] : 0.14540141820907593\n",
      "train : [iteration : 2350] : 0.18600662052631378\n",
      "train : [iteration : 2400] : 0.1752394288778305\n",
      "train : [iteration : 2450] : 0.22099711000919342\n",
      "train : [iteration : 2500] : 0.2658698856830597\n",
      "train : [iteration : 2550] : 0.4947115480899811\n",
      "train : [iteration : 2600] : 0.31672611832618713\n",
      "epoch train loss = 0.3036661148071289\n",
      "epoch val loss = 0.724591937551\n",
      "==== Epoch [7 / 10] done ====\n",
      "Saving model... models/Exp01_try2/quicknat_epoch7.model\n",
      "train : [iteration : 2650] : 0.7052457332611084\n",
      "train : [iteration : 2700] : 0.29754945635795593\n",
      "train : [iteration : 2750] : 0.37491002678871155\n",
      "train : [iteration : 2800] : 0.31231561303138733\n",
      "train : [iteration : 2850] : 0.5077306032180786\n",
      "train : [iteration : 2900] : 0.6218584775924683\n",
      "train : [iteration : 2950] : 0.20713472366333008\n",
      "train : [iteration : 3000] : 0.3272145092487335\n",
      "epoch train loss = 0.13697907328605652\n",
      "epoch val loss = 0.722014667039\n",
      "==== Epoch [8 / 10] done ====\n",
      "Saving model... models/Exp01_try2/quicknat_epoch8.model\n",
      "train : [iteration : 3050] : 0.5528705716133118\n",
      "train : [iteration : 3100] : 0.2860071659088135\n",
      "train : [iteration : 3150] : 0.42157918214797974\n",
      "train : [iteration : 3200] : 0.1550949662923813\n",
      "train : [iteration : 3250] : 0.16867908835411072\n",
      "train : [iteration : 3300] : 0.3858167231082916\n",
      "train : [iteration : 3350] : 0.375064492225647\n",
      "train : [iteration : 3400] : 0.24549594521522522\n",
      "epoch train loss = 0.2771761119365692\n",
      "epoch val loss = 0.721992303155\n",
      "==== Epoch [9 / 10] done ====\n",
      "Saving model... models/Exp01_try2/quicknat_epoch9.model\n",
      "train : [iteration : 3450] : 0.3388766050338745\n"
     ]
    }
   ],
   "source": [
    "from quickNat_pytorch.quickNAT import quickNAT\n",
    "from quickNat_pytorch.solver import Solver\n",
    "\n",
    "train_loader = torch.utils.data.DataLoader(train_data, batch_size=train_params['train_batch_size'], shuffle=True, num_workers=4, pin_memory = True)\n",
    "val_loader = torch.utils.data.DataLoader(test_data, batch_size=train_params['val_batch_size'], shuffle=False, num_workers=4, pin_memory = True)\n",
    "\n",
    "quicknat_model = quickNAT(params['network'])\n",
    "\n",
    "solver = Solver(quicknat_model,\n",
    "                device = common_params['device'],\n",
    "                num_class = net_params['num_class'],\n",
    "                optim_args={\"lr\": train_params['learning_rate']},\n",
    "                model_name = common_params['model_name'],\n",
    "                labels = data_params['labels'],\n",
    "                log_nth=train_params['log_nth'], \n",
    "                num_epochs=train_params['num_epochs'], \n",
    "                log_dir_name = common_params['log_dir_name'],\n",
    "                exp_dir_name=train_params['exp_dir_name'], \n",
    "                lr_scheduler_step_size = train_params['lr_scheduler_step_size'], \n",
    "                lr_scheduler_gamma = train_params['lr_scheduler_gamma'],\n",
    "                use_last_checkpoint =train_params['use_last_checkpoint'])\n",
    "\n",
    "solver.train(train_loader, val_loader)"
   ]
  },
  {
   "cell_type": "markdown",
   "metadata": {},
   "source": [
    "# Evaluate Model"
   ]
  },
  {
   "cell_type": "markdown",
   "metadata": {},
   "source": [
    "## 1. Calculate dice score of each volume"
   ]
  },
  {
   "cell_type": "code",
   "execution_count": 46,
   "metadata": {},
   "outputs": [
    {
     "name": "stdout",
     "output_type": "stream",
     "text": [
      "**Starting evaluation on the volumes. Please check tensorboard for dice score plots if a logWriter is provided in arguments**\n",
      "Loading data volumes\n",
      "Data loaded succssfully\n",
      "Volume 0 evaluated\n",
      "Volume 1 evaluated\n",
      "Volume 2 evaluated\n",
      "Volume 3 evaluated\n",
      "Volume 4 evaluated\n",
      "Volume 5 evaluated\n",
      "Volume 6 evaluated\n",
      "Volume 7 evaluated\n",
      "Volume 8 evaluated\n",
      "Volume 9 evaluated\n",
      "Volume 10 evaluated\n",
      "Volume 11 evaluated\n",
      "Volume 12 evaluated\n",
      "Volume 13 evaluated\n",
      "Volume 14 evaluated\n",
      "**End**\n"
     ]
    },
    {
     "data": {
      "image/png": "[encoded data removed]",
      "text/plain": [
       "<matplotlib.figure.Figure at 0x7f0a30553d30>"
      ]
     },
     "metadata": {},
     "output_type": "display_data"
    }
   ],
   "source": [
    "eval_model_path = eval_params['eval_model_path']\n",
    "num_classes = net_params['num_class']\n",
    "labels = data_params['labels']\n",
    "data_dir = eval_params['data_dir']\n",
    "label_dir = eval_params['label_dir']\n",
    "volumes_txt_file = eval_params['volumes_txt_file']\n",
    "remap_config = eval_params['remap_config']\n",
    "device = common_params['device']\n",
    "log_dir_name = common_params['log_dir_name']\n",
    "exp_dir_name = train_params['exp_dir_name']\n",
    "\n",
    "logWriter = LogWriter(num_classes, log_dir_name, exp_dir_name, labels=labels)\n",
    "\n",
    "avg_dice_score, volume_dice_score_list = eu.evaluate_dice_score(eval_model_path, num_classes, data_dir, label_dir, volumes_txt_file , remap_config, device, logWriter)"
   ]
  },
  {
   "cell_type": "markdown",
   "metadata": {},
   "source": [
    "## 2. Plot average dice score of all the volumes"
   ]
  },
  {
   "cell_type": "code",
   "execution_count": 45,
   "metadata": {},
   "outputs": [
    {
     "data": {
      "image/png": "[encoded data removed]",
      "text/plain": [
       "<matplotlib.figure.Figure at 0x7f0a305574a8>"
      ]
     },
     "metadata": {},
     "output_type": "display_data"
    }
   ],
   "source": [
    "fig, ax = plt.subplots(nrows=1, ncols=1,figsize=(20,10))\n",
    "ax.bar(np.arange(num_classes), avg_dice_score)\n",
    "ax.set_xlabel('Average Dice Score', fontsize=20, color='blue')        \n",
    "ax.set_xticks(np.arange(num_classes))\n",
    "c = ax.set_xticklabels(labels, fontsize=15, rotation=-90,  ha='center', color='blue')\n",
    "ax.xaxis.set_label_position('top')\n",
    "ax.tick_params(axis='y', colors='blue')\n",
    "ax.xaxis.tick_bottom()\n",
    "plt.show()"
   ]
  },
  {
   "cell_type": "markdown",
   "metadata": {},
   "source": [
    "# Save the Model\n",
    "\n",
    "When you are satisfied with your training, you can save the model."
   ]
  },
  {
   "cell_type": "code",
   "execution_count": 77,
   "metadata": {},
   "outputs": [
    {
     "name": "stdout",
     "output_type": "stream",
     "text": [
      "Saving model... models/quicknat_final.model\n"
     ]
    }
   ],
   "source": [
    "quicknat_model.save(train_params['final_model_path'])"
   ]
  },
  {
   "cell_type": "markdown",
   "metadata": {},
   "source": [
    "# Test"
   ]
  },
  {
   "cell_type": "markdown",
   "metadata": {},
   "source": [
    "## 1. Load test model"
   ]
  },
  {
   "cell_type": "code",
   "execution_count": null,
   "metadata": {},
   "outputs": [],
   "source": [
    "# quick_model_test = torch.load(train_params['final_model_path'])\n",
    "quick_model_test = torch.load('models/Exp01_try2/quicknat_epoch10.model')"
   ]
  },
  {
   "cell_type": "markdown",
   "metadata": {},
   "source": [
    "## 2. Predict a few sample slices"
   ]
  },
  {
   "cell_type": "code",
   "execution_count": 16,
   "metadata": {},
   "outputs": [
    {
     "data": {
      "image/png": "[encoded data removed]",
      "text/plain": [
       "<matplotlib.figure.Figure at 0x7ff296d426a0>"
      ]
     },
     "metadata": {},
     "output_type": "display_data"
    }
   ],
   "source": [
    "with torch.no_grad():\n",
    "    test_input = Variable(torch.Tensor(test_data.X[1000:1001]).cuda(common_params['device']))\n",
    "    out = quick_model_test.predict(test_input, 1)\n",
    "    \n",
    "groud_truth = test_data.y[1000:1001]\n",
    "groud_truth = np.squeeze(groud_truth)    \n",
    "\n",
    "fig, ax = plt.subplots(nrows=1, ncols=2,figsize=(20,20))\n",
    "ax[0].imshow(out, cmap ='jet', vmin=0, vmax=net_params['num_class']-1)\n",
    "\n",
    "ax[0].set_title(\"Predicted\", fontsize=10, color = \"green\")\n",
    "ax[0].axis('off')\n",
    "ax[1].imshow(groud_truth, cmap ='jet', vmin=0, vmax=net_params['num_class']-1)\n",
    "ax[1].set_title(\"Ground Truth\", fontsize=10, color = \"green\")\n",
    "ax[1].axis('off')\n",
    "plt.show()"
   ]
  }
 ],
 "metadata": {
  "kernelspec": {
   "display_name": "Python 3",
   "language": "python",
   "name": "python3"
  },
  "language_info": {
   "codemirror_mode": {
    "name": "ipython",
    "version": 3
   },
   "file_extension": ".py",
   "mimetype": "text/x-python",
   "name": "python",
   "nbconvert_exporter": "python",
   "pygments_lexer": "ipython3",
   "version": "3.6.3"
  }
 },
 "nbformat": 4,
 "nbformat_minor": 2
}
