{
 "cells": [
  {
   "cell_type": "markdown",
   "metadata": {},
   "source": [
    "## Train QuickNAT\n",
    "Working code! Details coming soon!"
   ]
  },
  {
   "cell_type": "code",
   "execution_count": 2,
   "metadata": {
    "collapsed": true
   },
   "outputs": [],
   "source": [
    "import numpy as np\n",
    "import matplotlib.pyplot as plt\n",
    "import torch\n",
    "from torch.autograd import Variable\n",
    "\n",
    "from quickNat_pytorch.quickNAT import quickNAT\n",
    "from quickNat_pytorch.data_utils import get_data\n",
    "\n",
    "from quickNat_pytorch.net_api import squeeze_excitation as se\n",
    "\n",
    "#torch.set_default_tensor_type('torch.FloatTensor')\n",
    "%matplotlib inline\n",
    "# for auto-reloading external modules\n",
    "# see http://stackoverflow.com/questions/1907993/autoreload-of-modules-in-ipython\n",
    "%load_ext autoreload\n",
    "%autoreload 2\n",
    "\n",
    "plt.rcParams['figure.figsize'] = (10.0, 8.0) # set default size of plots\n",
    "plt.rcParams['image.interpolation'] = 'nearest'\n",
    "plt.rcParams['image.cmap'] = 'gray'\n",
    "\n",
    "params ={\n",
    "    'data' : {\n",
    "        'base_dir' : \"datasets/coronal\",\n",
    "        'train_data_file' : \"Data_train.h5\", \n",
    "        'train_label_file' : \"Label_train.h5\",\n",
    "        'train_class_weights_file' : \"Class_Weight_train.h5\",        \n",
    "        'train_weights_file' : \"Weight_train.h5\",                \n",
    "        'test_data_file' : \"Data_test.h5\", \n",
    "        'test_label_file' : \"Label_test.h5\",         \n",
    "        'test_class_weights_file' : \"Class_Weight_test.h5\",       \n",
    "        'test_weights_file' : \"Weight_test.h5\",\n",
    "        'labels' : ['Background','Left WM','Left Cortex','Left Lateral ventricle','Left Inf LatVentricle','Left Cerebellum WM','Left Cerebellum Cortex',\n",
    "                    'Left Thalamus','Left Caudate','Left Putamen','Left Pallidum','3rd Ventricle','4th Ventricle','Brain Stem','Left Hippocampus',\n",
    "                    'Left Amygdala','CSF (Cranial)','Left Accumbens','Left Ventral DC','Right WM','Right Cortex','Right Lateral Ventricle',\n",
    "                    'Right Inf LatVentricle','Right Cerebellum WM','Right Cerebellum Cortex','Right Thalamus','Right Caudate','Right Putamen',\n",
    "                    'Right Pallidum','Right Hippocampus','Right Amygdala','Right Accumbens','Right Ventral DC']\n",
    "    },\n",
    "    'network' : { \n",
    "        'num_class': 33,\n",
    "        'num_channels':1,\n",
    "        'num_filters':64,\n",
    "        'kernel_h':5,\n",
    "        'kernel_w':5,\n",
    "        'kernel_c': 1,\n",
    "        'stride_conv':1,\n",
    "        'pool':2,\n",
    "        'stride_pool':2,\n",
    "        'se_block' : se.SELayer.NONE, # Valid options : se.SELayer.NONE, se.SELayer.CSE, se.SELayer.SSE, se.SELayer.CSSE\n",
    "        'drop_out' : 0 # Keep 0 for no dropout        \n",
    "    },\n",
    "    'training' : {\n",
    "        'learning_rate': 1e-2,\n",
    "        'train_batch_size': 2,\n",
    "        'val_batch_size': 5,\n",
    "        'log_nth': 50,\n",
    "        'num_epochs': 10,\n",
    "        'lr_scheduler_step_size': 5,\n",
    "        'lr_scheduler_gamma' : 0.5,\n",
    "        'exp_dir_name': 'Exp02_try3',\n",
    "        'final_model_path': 'models/quicknat_model.model', \n",
    "    }\n",
    "}\n",
    "\n",
    "train_params, net_params, data_params = params['training'], params['network'], params['data']"
   ]
  },
  {
   "cell_type": "markdown",
   "metadata": {},
   "source": [
    "## Load Data"
   ]
  },
  {
   "cell_type": "code",
   "execution_count": 3,
   "metadata": {},
   "outputs": [
    {
     "name": "stdout",
     "output_type": "stream",
     "text": [
      "Train size: 1320\n",
      "Test size: 1320\n"
     ]
    }
   ],
   "source": [
    "train_data, test_data = get_data(data_params)\n",
    "print(\"Train size: %i\" % len(train_data))\n",
    "print(\"Test size: %i\" % len(test_data))"
   ]
  },
  {
   "cell_type": "markdown",
   "metadata": {},
   "source": [
    "## Train Model"
   ]
  },
  {
   "cell_type": "code",
   "execution_count": 39,
   "metadata": {
    "scrolled": false
   },
   "outputs": [
    {
     "name": "stdout",
     "output_type": "stream",
     "text": [
      "START TRAIN.\n",
      "train : [iteration : 50] : 0.9295544028282166\n",
      "train : [iteration : 100] : 0.9262341260910034\n",
      "train : [iteration : 150] : 0.9315339922904968\n",
      "train : [iteration : 200] : 0.9294889569282532\n",
      "train : [iteration : 250] : 0.8605788350105286\n",
      "train : [iteration : 300] : 0.8491193056106567\n",
      "train : [iteration : 350] : 0.8516335487365723\n",
      "train : [iteration : 400] : 0.8272868394851685\n",
      "train : [iteration : 450] : 0.8220115900039673\n",
      "train : [iteration : 500] : 0.7893809080123901\n",
      "train : [iteration : 550] : 0.8462756276130676\n",
      "train : [iteration : 600] : 0.8587787747383118\n",
      "train : [iteration : 650] : 0.748051643371582\n",
      "[Epoch : 1/10] : train loss = 0.9068958759307861, val loss = 0.90425642354\n",
      "Saving model... models/Exp02_try3/quicknat_epoch2.model\n",
      "train : [iteration : 950] : 0.8164454698562622\n",
      "train : [iteration : 1000] : 0.7483702301979065\n",
      "train : [iteration : 1050] : 0.8576371669769287\n",
      "train : [iteration : 1100] : 0.7508323788642883\n",
      "train : [iteration : 1150] : 0.7815789580345154\n",
      "train : [iteration : 1200] : 0.6983963847160339\n",
      "train : [iteration : 1250] : 0.8810192942619324\n",
      "train : [iteration : 1300] : 0.8294035196304321\n",
      "train : [iteration : 1350] : 0.7621030807495117\n",
      "train : [iteration : 1400] : 0.7104403376579285\n",
      "train : [iteration : 1450] : 0.7516270279884338\n",
      "train : [iteration : 1500] : 0.6802414655685425\n",
      "train : [iteration : 1550] : 0.8713446259498596\n",
      "[Epoch : 2/10] : train loss = 0.8851376175880432, val loss = 0.857001988274\n",
      "Saving model... models/Exp02_try3/quicknat_epoch3.model\n",
      "train : [iteration : 1850] : 0.8211202621459961\n",
      "train : [iteration : 1900] : 0.6097612380981445\n",
      "train : [iteration : 1950] : 0.7713242173194885\n",
      "train : [iteration : 2000] : 0.6289117932319641\n",
      "train : [iteration : 2050] : 0.7267460823059082\n",
      "train : [iteration : 2100] : 0.6684778332710266\n",
      "train : [iteration : 2150] : 0.798463761806488\n",
      "train : [iteration : 2200] : 0.6089674830436707\n",
      "train : [iteration : 2250] : 0.8333427309989929\n",
      "train : [iteration : 2300] : 0.7487016916275024\n",
      "train : [iteration : 2350] : 0.8986559510231018\n",
      "train : [iteration : 2400] : 0.8751054406166077\n",
      "train : [iteration : 2450] : 0.7469926476478577\n",
      "train : [iteration : 2500] : 0.7570530772209167\n",
      "[Epoch : 3/10] : train loss = 0.5359602570533752, val loss = 0.821439069555\n",
      "Saving model... models/Exp02_try3/quicknat_epoch4.model\n",
      "train : [iteration : 2800] : 0.6367849707603455\n",
      "train : [iteration : 2850] : 0.7084537148475647\n",
      "train : [iteration : 2900] : 0.7762521505355835\n",
      "train : [iteration : 2950] : 0.8754881024360657\n",
      "train : [iteration : 3000] : 0.7203816175460815\n",
      "train : [iteration : 3050] : 0.7814619541168213\n",
      "train : [iteration : 3100] : 0.7298310995101929\n",
      "train : [iteration : 3150] : 0.7670438885688782\n",
      "train : [iteration : 3200] : 0.4935056269168854\n",
      "train : [iteration : 3250] : 0.7364228963851929\n",
      "train : [iteration : 3300] : 0.6615606546401978\n",
      "train : [iteration : 3350] : 0.8641445636749268\n",
      "train : [iteration : 3400] : 0.7740448117256165\n",
      "[Epoch : 4/10] : train loss = 0.8113269209861755, val loss = 0.797670946654\n",
      "Saving model... models/Exp02_try3/quicknat_epoch5.model\n",
      "train : [iteration : 3700] : 0.8806513547897339\n",
      "train : [iteration : 3750] : 0.5434563159942627\n",
      "train : [iteration : 3800] : 0.7586390972137451\n",
      "train : [iteration : 3850] : 0.6542377471923828\n",
      "train : [iteration : 3900] : 0.7016199827194214\n",
      "train : [iteration : 3950] : 0.577663004398346\n",
      "train : [iteration : 4000] : 0.5384348034858704\n",
      "train : [iteration : 4050] : 0.7095733880996704\n",
      "train : [iteration : 4100] : 0.7126609683036804\n",
      "train : [iteration : 4150] : 0.789908230304718\n",
      "train : [iteration : 4200] : 0.8058826923370361\n",
      "train : [iteration : 4250] : 0.7165509462356567\n",
      "train : [iteration : 4300] : 0.7423532009124756\n",
      "train : [iteration : 4350] : 0.8237496614456177\n",
      "[Epoch : 5/10] : train loss = 0.5640914440155029, val loss = 0.787846627335\n",
      "Saving model... models/Exp02_try3/quicknat_epoch6.model\n",
      "train : [iteration : 4650] : 0.7155665159225464\n",
      "train : [iteration : 4700] : 0.6948801279067993\n",
      "train : [iteration : 4750] : 0.5485566258430481\n",
      "train : [iteration : 4800] : 0.6838034391403198\n",
      "train : [iteration : 4850] : 0.6478390693664551\n",
      "train : [iteration : 4900] : 0.573364794254303\n",
      "train : [iteration : 4950] : 0.6892706751823425\n",
      "train : [iteration : 5000] : 0.7462010979652405\n",
      "train : [iteration : 5050] : 0.6742972135543823\n",
      "train : [iteration : 5100] : 0.5150928497314453\n",
      "train : [iteration : 5150] : 0.6993855237960815\n",
      "train : [iteration : 5200] : 0.7558722496032715\n",
      "train : [iteration : 5250] : 0.7179552316665649\n",
      "[Epoch : 6/10] : train loss = 0.6042458415031433, val loss = 0.781216593177\n",
      "Saving model... models/Exp02_try3/quicknat_epoch7.model\n",
      "train : [iteration : 5550] : 0.6392242312431335\n",
      "train : [iteration : 5600] : 0.5954676866531372\n",
      "train : [iteration : 5650] : 0.6591584086418152\n",
      "train : [iteration : 5700] : 0.4315301477909088\n",
      "train : [iteration : 5750] : 0.7880591154098511\n",
      "train : [iteration : 5800] : 0.6041470766067505\n",
      "train : [iteration : 5850] : 0.5149005651473999\n",
      "train : [iteration : 5900] : 0.7041850686073303\n",
      "train : [iteration : 5950] : 0.6331974267959595\n",
      "train : [iteration : 6000] : 0.8895766735076904\n",
      "train : [iteration : 6050] : 0.5913555026054382\n",
      "train : [iteration : 6100] : 0.5123000741004944\n",
      "train : [iteration : 6150] : 0.9697416424751282\n",
      "train : [iteration : 6200] : 0.6199519038200378\n",
      "[Epoch : 7/10] : train loss = 0.5626459121704102, val loss = 0.778407979192\n",
      "Saving model... models/Exp02_try3/quicknat_epoch8.model\n",
      "train : [iteration : 6500] : 0.8708148002624512\n",
      "train : [iteration : 6550] : 0.893068253993988\n",
      "train : [iteration : 6600] : 0.8448439240455627\n",
      "train : [iteration : 6650] : 0.7142956256866455\n",
      "train : [iteration : 6700] : 0.4174894690513611\n",
      "train : [iteration : 6750] : 0.4783482551574707\n",
      "train : [iteration : 6800] : 0.7509986162185669\n",
      "train : [iteration : 6850] : 0.48914775252342224\n",
      "train : [iteration : 6900] : 0.6343010663986206\n",
      "train : [iteration : 6950] : 0.43487152457237244\n",
      "train : [iteration : 7000] : 0.5519278049468994\n",
      "train : [iteration : 7050] : 0.7515910267829895\n",
      "train : [iteration : 7100] : 0.86383455991745\n",
      "[Epoch : 8/10] : train loss = 0.8641195297241211, val loss = 0.772898674463\n",
      "Saving model... models/Exp02_try3/quicknat_epoch9.model\n",
      "train : [iteration : 7400] : 0.770815908908844\n",
      "train : [iteration : 7450] : 0.5993871092796326\n",
      "train : [iteration : 7500] : 0.7520997524261475\n",
      "train : [iteration : 7550] : 0.6883605718612671\n",
      "train : [iteration : 7600] : 0.7513693571090698\n",
      "train : [iteration : 7650] : 0.9698505401611328\n",
      "train : [iteration : 7700] : 0.37734895944595337\n",
      "train : [iteration : 7750] : 0.7124355435371399\n",
      "train : [iteration : 7800] : 0.41526612639427185\n",
      "train : [iteration : 7850] : 0.44221165776252747\n",
      "train : [iteration : 7900] : 0.6742019653320312\n",
      "train : [iteration : 7950] : 0.594865620136261\n",
      "train : [iteration : 8000] : 0.6934695243835449\n",
      "train : [iteration : 8050] : 0.7154276371002197\n",
      "[Epoch : 9/10] : train loss = 0.5477345585823059, val loss = 0.771990928234\n",
      "Saving model... models/Exp02_try3/quicknat_epoch10.model\n",
      "train : [iteration : 8350] : 0.5960560441017151\n",
      "train : [iteration : 8400] : 0.607021152973175\n",
      "train : [iteration : 8450] : 0.3524470329284668\n",
      "train : [iteration : 8500] : 0.7586180567741394\n",
      "train : [iteration : 8550] : 0.7790956497192383\n",
      "train : [iteration : 8600] : 0.5954723358154297\n",
      "train : [iteration : 8650] : 0.8638023734092712\n",
      "train : [iteration : 8700] : 0.6596388220787048\n",
      "train : [iteration : 8750] : 0.7668125629425049\n",
      "train : [iteration : 8800] : 0.4422953724861145\n",
      "train : [iteration : 8850] : 0.6628512144088745\n",
      "train : [iteration : 8900] : 0.8680819869041443\n",
      "train : [iteration : 8950] : 0.7030301690101624\n",
      "[Epoch : 10/10] : train loss = 0.3273580074310303, val loss = 0.767919534761\n",
      "Saving model... models/Exp02_try3/quicknat_epoch11.model\n",
      "FINISH.\n"
     ]
    },
    {
     "data": {
      "text/plain": [
       "<matplotlib.figure.Figure at 0x7fb4c8692390>"
      ]
     },
     "metadata": {},
     "output_type": "display_data"
    }
   ],
   "source": [
    "from quickNat_pytorch.quickNAT import quickNAT\n",
    "from quickNat_pytorch.solver import Solver\n",
    "\n",
    "train_loader = torch.utils.data.DataLoader(train_data, batch_size=train_params['train_batch_size'], shuffle=True, num_workers=4)\n",
    "val_loader = torch.utils.data.DataLoader(test_data, batch_size=train_params['val_batch_size'], shuffle=False, num_workers=4)\n",
    "\n",
    "quicknat_model = quickNAT(params['network'])\n",
    "solver = Solver(optim_args={\"lr\": train_params['learning_rate']}, labels = params['data']['labels'])\n",
    "solver.train(quicknat_model, train_loader, val_loader, \n",
    "             log_nth=train_params['log_nth'], \n",
    "             num_epochs=train_params['num_epochs'], \n",
    "             exp_dir_name=train_params['exp_dir_name'], \n",
    "             lr_scheduler_step_size = train_params['lr_scheduler_step_size'], \n",
    "             lr_scheduler_gamma = train_params['lr_scheduler_gamma'])"
   ]
  },
  {
   "cell_type": "markdown",
   "metadata": {},
   "source": [
    "## Save the Model\n",
    "\n",
    "When you are satisfied with your training, you can save the model."
   ]
  },
  {
   "cell_type": "code",
   "execution_count": 40,
   "metadata": {},
   "outputs": [
    {
     "name": "stdout",
     "output_type": "stream",
     "text": [
      "Saving model... models/quicknat_model.model\n"
     ]
    }
   ],
   "source": [
    "quicknat_model.save(train_params['final_model_path'])"
   ]
  },
  {
   "cell_type": "markdown",
   "metadata": {},
   "source": [
    "## Deploy Model on Test Data"
   ]
  },
  {
   "cell_type": "code",
   "execution_count": 4,
   "metadata": {},
   "outputs": [
    {
     "data": {
      "image/png": "[encoded data removed]",
      "text/plain": [
       "<matplotlib.figure.Figure at 0x7f09a7b8a7b8>"
      ]
     },
     "metadata": {},
     "output_type": "display_data"
    },
    {
     "data": {
      "image/png": "[encoded data removed]",
      "text/plain": [
       "<matplotlib.figure.Figure at 0x7f08a4a6ca20>"
      ]
     },
     "metadata": {},
     "output_type": "display_data"
    }
   ],
   "source": [
    "import matplotlib.pyplot as plt\n",
    "\n",
    "quick_model = torch.load(train_params['final_model_path'])\n",
    "with torch.no_grad():\n",
    "    test_input = Variable(torch.Tensor(test_data.X[201:202]).cuda())\n",
    "    out = quick_model.predict(test_input)\n",
    "    \n",
    "plt.imshow(out)\n",
    "plt.show()\n",
    "\n",
    "img_test = test_data.y[201:202]\n",
    "img_test = np.squeeze(img_test)\n",
    "plt.imshow(img_test)\n",
    "plt.show()"
   ]
  },
  {
   "cell_type": "code",
   "execution_count": null,
   "metadata": {},
   "outputs": [],
   "source": []
  }
 ],
 "metadata": {
  "kernelspec": {
   "display_name": "Python 3",
   "language": "python",
   "name": "python3"
  },
  "language_info": {
   "codemirror_mode": {
    "name": "ipython",
    "version": 3
   },
   "file_extension": ".py",
   "mimetype": "text/x-python",
   "name": "python",
   "nbconvert_exporter": "python",
   "pygments_lexer": "ipython3",
   "version": "3.6.3"
  }
 },
 "nbformat": 4,
 "nbformat_minor": 2
}
