{
 "cells": [
  {
   "cell_type": "code",
   "execution_count": 1,
   "metadata": {},
   "outputs": [],
   "source": [
    "import os\n",
    "os.environ[\"CUDA_VISIBLE_DEVICES\"]=\"0,1\""
   ]
  },
  {
   "cell_type": "markdown",
   "metadata": {},
   "source": [
    "## Imports and declarations"
   ]
  },
  {
   "cell_type": "code",
   "execution_count": 2,
   "metadata": {
    "collapsed": true
   },
   "outputs": [],
   "source": [
    "import numpy as np\n",
    "import matplotlib.pyplot as plt\n",
    "import torch\n",
    "\n",
    "from quicknat import QuickNat\n",
    "from utils.data_utils import get_data\n",
    "from utils.log_utils import LogWriter\n",
    "import utils.evaluator as eu\n",
    "from settings import Settings\n",
    "from solver import Solver\n",
    "\n",
    "%matplotlib inline\n",
    "%load_ext autoreload\n",
    "%autoreload 2\n",
    "\n",
    "settings = Settings()\n",
    "common_params, data_params, net_params, train_params, eval_params = settings['COMMON'], settings['DATA'], settings['NETWORK'], settings['TRAINING'], settings['EVAL']"
   ]
  },
  {
   "cell_type": "markdown",
   "metadata": {},
   "source": [
    "# Train QuickNAT"
   ]
  },
  {
   "cell_type": "markdown",
   "metadata": {},
   "source": [
    "## 1. Load Training and Validation Data"
   ]
  },
  {
   "cell_type": "code",
   "execution_count": 3,
   "metadata": {},
   "outputs": [
    {
     "name": "stdout",
     "output_type": "stream",
     "text": [
      "Train size: 1083\n",
      "Test size: 1032\n"
     ]
    }
   ],
   "source": [
    "train_data, test_data = get_data(data_params)\n",
    "print(\"Train size: %i\" % len(train_data))\n",
    "print(\"Test size: %i\" % len(test_data))"
   ]
  },
  {
   "cell_type": "markdown",
   "metadata": {},
   "source": [
    "## 2. Train Model"
   ]
  },
  {
   "cell_type": "code",
   "execution_count": null,
   "metadata": {
    "scrolled": false
   },
   "outputs": [
    {
     "name": "stdout",
     "output_type": "stream",
     "text": [
      "=> no checkpoint found at 'saved_models/Exp01_try8/checkpoint.pth.tar'\n",
      "START TRAINING.\n",
      "\n",
      "==== Epoch [1 / 10] START ====\n",
      "<<<= Phase: train =>>>\n",
      "[Iteration : 0] Loss -> 1.45625901222229\n",
      "[Iteration : 50] Loss -> 0.8849115371704102\n",
      "[Iteration : 100] Loss -> 0.7836363911628723\n",
      "epoch train loss = 0.7832725644111633\n",
      "Sample Images...DONE\n",
      "Confusion Matrix...DONE\n",
      "<<<= Phase: val =>>>\n",
      "########################################################################################################\n",
      "epoch val loss = 0.889864980601\n",
      "Sample Images...DONE\n",
      "Confusion Matrix...DONE\n",
      "Dice Score...DONE\n",
      "==== Epoch [1 / 10] DONE ====\n",
      "\n",
      "==== Epoch [2 / 10] START ====\n",
      "<<<= Phase: train =>>>\n",
      "[Iteration : 0] Loss -> 0.7638850212097168\n",
      "[Iteration : 50] Loss -> 0.633151113986969\n",
      "[Iteration : 100] Loss -> 0.46823230385780334\n",
      "epoch train loss = 0.6386333703994751\n",
      "Sample Images...DONE\n",
      "Confusion Matrix...DONE\n",
      "<<<= Phase: val =>>>\n",
      "########################################################################################################\n",
      "epoch val loss = 0.743856553848\n",
      "Sample Images...DONE\n",
      "Confusion Matrix...DONE\n",
      "Dice Score...DONE\n",
      "==== Epoch [2 / 10] DONE ====\n",
      "\n",
      "==== Epoch [3 / 10] START ====\n",
      "<<<= Phase: train =>>>\n",
      "[Iteration : 0] Loss -> 0.7062671780586243\n",
      "[Iteration : 50] Loss -> 0.3998907804489136\n",
      "[Iteration : 100] Loss -> 0.37171703577041626\n",
      "epoch train loss = 0.5803232789039612\n",
      "Sample Images...DONE\n",
      "Confusion Matrix...DONE\n",
      "<<<= Phase: val =>>>\n",
      "########################################################################################################\n",
      "epoch val loss = 0.689092718065\n",
      "Sample Images...DONE\n",
      "Confusion Matrix...DONE\n",
      "Dice Score...DONE\n",
      "==== Epoch [3 / 10] DONE ====\n",
      "\n",
      "==== Epoch [4 / 10] START ====\n",
      "<<<= Phase: train =>>>\n",
      "[Iteration : 0] Loss -> 0.4236713945865631\n",
      "[Iteration : 50] Loss -> 0.3490132689476013\n",
      "[Iteration : 100] Loss -> 0.3283877670764923\n",
      "epoch train loss = 0.6071547269821167\n",
      "Sample Images...DONE\n",
      "Confusion Matrix...DONE\n",
      "<<<= Phase: val =>>>\n",
      "########################################################################################################\n",
      "epoch val loss = 0.692726357339\n",
      "Sample Images...DONE\n",
      "Confusion Matrix...DONE\n",
      "Dice Score...DONE\n",
      "==== Epoch [4 / 10] DONE ====\n",
      "\n",
      "==== Epoch [5 / 10] START ====\n",
      "<<<= Phase: train =>>>\n",
      "[Iteration : 0] Loss -> 0.4247356355190277\n",
      "[Iteration : 50] Loss -> 0.2906312048435211\n",
      "[Iteration : 100] Loss -> 0.34404709935188293\n",
      "epoch train loss = 0.39276421070098877\n",
      "Sample Images...DONE\n",
      "Confusion Matrix...DONE\n",
      "<<<= Phase: val =>>>\n",
      "########################################################################################################\n",
      "epoch val loss = 0.658580974318\n",
      "Sample Images...DONE\n",
      "Confusion Matrix...DONE\n",
      "Dice Score...DONE\n",
      "==== Epoch [5 / 10] DONE ====\n",
      "\n",
      "==== Epoch [6 / 10] START ====\n",
      "<<<= Phase: train =>>>\n",
      "[Iteration : 0] Loss -> 0.25241464376449585\n",
      "[Iteration : 50] Loss -> 0.3144731819629669\n",
      "[Iteration : 100] Loss -> 0.2973157465457916\n",
      "epoch train loss = 0.4025777578353882\n",
      "Sample Images...DONE\n",
      "Confusion Matrix...DONE\n",
      "<<<= Phase: val =>>>\n",
      "########################################################################################################\n",
      "epoch val loss = 0.678738200607\n",
      "Sample Images...DONE\n",
      "Confusion Matrix...DONE\n",
      "Dice Score...DONE\n",
      "==== Epoch [6 / 10] DONE ====\n",
      "\n",
      "==== Epoch [7 / 10] START ====\n",
      "<<<= Phase: train =>>>\n",
      "[Iteration : 0] Loss -> 0.5587428212165833\n",
      "[Iteration : 50] Loss -> 0.17769648134708405\n",
      "[Iteration : 100] Loss -> 0.34799808263778687\n",
      "epoch train loss = 0.47620218992233276\n",
      "Sample Images...DONE\n",
      "Confusion Matrix...DONE\n",
      "<<<= Phase: val =>>>\n",
      "########################################################################################################\n",
      "epoch val loss = 0.643514350343\n",
      "Sample Images...DONE\n",
      "Confusion Matrix...DONE\n",
      "Dice Score...DONE\n",
      "==== Epoch [7 / 10] DONE ====\n",
      "\n",
      "==== Epoch [8 / 10] START ====\n",
      "<<<= Phase: train =>>>\n",
      "[Iteration : 0] Loss -> 0.21543411910533905\n",
      "[Iteration : 50] Loss -> 0.23710842430591583\n",
      "[Iteration : 100] Loss -> 0.2279682755470276\n",
      "epoch train loss = 0.5344783067703247\n",
      "Sample Images...DONE\n",
      "Confusion Matrix...DONE\n",
      "<<<= Phase: val =>>>\n",
      "########################################################################################################\n",
      "epoch val loss = 0.627550118531\n",
      "Sample Images...DONE\n",
      "Confusion Matrix...DONE\n",
      "Dice Score...DONE\n",
      "==== Epoch [8 / 10] DONE ====\n",
      "\n",
      "==== Epoch [9 / 10] START ====\n",
      "<<<= Phase: train =>>>\n",
      "[Iteration : 0] Loss -> 0.24012914299964905\n",
      "[Iteration : 50] Loss -> 0.21975001692771912\n",
      "[Iteration : 100] Loss -> 0.158053457736969\n",
      "epoch train loss = 0.44243305921554565\n",
      "Sample Images...DONE\n",
      "Confusion Matrix...DONE\n",
      "<<<= Phase: val =>>>\n",
      "########################################################################################################\n",
      "epoch val loss = 0.614628910732\n",
      "Sample Images...DONE\n",
      "Confusion Matrix...DONE\n",
      "Dice Score...DONE\n",
      "==== Epoch [9 / 10] DONE ====\n",
      "\n",
      "==== Epoch [10 / 10] START ====\n",
      "<<<= Phase: train =>>>\n",
      "[Iteration : 0] Loss -> 0.1404755413532257\n",
      "[Iteration : 50] Loss -> 0.14426492154598236\n",
      "[Iteration : 100] Loss -> 0.18408387899398804\n",
      "epoch train loss = 0.29110974073410034\n",
      "Sample Images...DONE\n",
      "Confusion Matrix...DONE\n",
      "<<<= Phase: val =>>>\n",
      "###################################"
     ]
    }
   ],
   "source": [
    "train_loader = torch.utils.data.DataLoader(train_data, batch_size=train_params['train_batch_size'], shuffle=True, num_workers=4, pin_memory = True)\n",
    "val_loader = torch.utils.data.DataLoader(test_data, batch_size=train_params['val_batch_size'], shuffle=False, num_workers=4, pin_memory = True)\n",
    "\n",
    "quicknat_model = QuickNat(net_params)\n",
    "\n",
    "solver = Solver(quicknat_model,\n",
    "                device = common_params['device'],\n",
    "                num_class = net_params['num_class'],\n",
    "                optim_args={\"lr\": train_params['learning_rate'],\n",
    "                            \"betas\": train_params['optim_betas'], \n",
    "                            \"eps\": train_params['optim_eps'], \n",
    "                            \"weight_decay\": train_params['optim_weight_decay']},\n",
    "                model_name = common_params['model_name'],\n",
    "                labels = data_params['labels'],\n",
    "                log_nth=train_params['log_nth'], \n",
    "                num_epochs=train_params['num_epochs'], \n",
    "                log_dir_name = common_params['log_dir_name'],\n",
    "                exp_dir_name=train_params['exp_dir_name'], \n",
    "                lr_scheduler_step_size = train_params['lr_scheduler_step_size'], \n",
    "                lr_scheduler_gamma = train_params['lr_scheduler_gamma'],\n",
    "                use_last_checkpoint =train_params['use_last_checkpoint'],\n",
    "                save_model_dir = common_params['save_model_dir'])\n",
    "\n",
    "solver.train(train_loader, val_loader)"
   ]
  },
  {
   "cell_type": "markdown",
   "metadata": {},
   "source": [
    "# Save the Model\n",
    "\n",
    "When you are satisfied with your training, you can save the model."
   ]
  },
  {
   "cell_type": "code",
   "execution_count": 27,
   "metadata": {},
   "outputs": [
    {
     "name": "stdout",
     "output_type": "stream",
     "text": [
      "Saving model... models/quicknat_final.pth.tar\n"
     ]
    }
   ],
   "source": [
    "quicknat_model.save(train_params['final_model_path'])"
   ]
  },
  {
   "cell_type": "markdown",
   "metadata": {},
   "source": [
    "# Evaluate Model"
   ]
  },
  {
   "cell_type": "markdown",
   "metadata": {},
   "source": [
    "## 1. Calculate dice score of each volume"
   ]
  },
  {
   "cell_type": "code",
   "execution_count": 19,
   "metadata": {},
   "outputs": [
    {
     "name": "stdout",
     "output_type": "stream",
     "text": [
      "**Starting evaluation on the volumes. Please check tensorboard for dice score plots if a logWriter is provided in arguments**\n",
      "Loading data volumes\n",
      "Data loaded succssfully\n",
      "Volume 0 evaluated\n",
      "Volume 1 evaluated\n",
      "Volume 2 evaluated\n",
      "Volume 3 evaluated\n",
      "Volume 4 evaluated\n",
      "Volume 5 evaluated\n",
      "Volume 6 evaluated\n",
      "Volume 7 evaluated\n",
      "Volume 8 evaluated\n",
      "Volume 9 evaluated\n",
      "Volume 10 evaluated\n",
      "Volume 11 evaluated\n",
      "Volume 12 evaluated\n",
      "Volume 13 evaluated\n",
      "Volume 14 evaluated\n",
      "**End**\n"
     ]
    }
   ],
   "source": [
    "eval_model_path = eval_params['eval_model_path']\n",
    "num_classes = net_params['num_class']\n",
    "labels = data_params['labels']\n",
    "data_dir = eval_params['data_dir']\n",
    "label_dir = eval_params['label_dir']\n",
    "volumes_txt_file = eval_params['volumes_txt_file']\n",
    "remap_config = eval_params['remap_config']\n",
    "device = common_params['device']\n",
    "log_dir_name = common_params['log_dir_name']\n",
    "exp_dir_name = train_params['exp_dir_name']\n",
    "orientation = eval_params['orientation']\n",
    "\n",
    "logWriter = LogWriter(num_classes, log_dir_name, exp_dir_name, labels=labels)\n",
    "\n",
    "avg_dice_score, volume_dice_score_list = eu.evaluate_dice_score(eval_model_path, \n",
    "                                                                num_classes, \n",
    "                                                                data_dir, \n",
    "                                                                label_dir, \n",
    "                                                                volumes_txt_file , \n",
    "                                                                remap_config, \n",
    "                                                                orientation, \n",
    "                                                                device, \n",
    "                                                                logWriter)"
   ]
  },
  {
   "cell_type": "markdown",
   "metadata": {},
   "source": [
    "## 2. Plot average dice score of all the volumes"
   ]
  },
  {
   "cell_type": "code",
   "execution_count": 20,
   "metadata": {},
   "outputs": [
    {
     "data": {
      "image/png": "[encoded data removed]",
      "text/plain": [
       "<matplotlib.figure.Figure at 0x7f12cee0e4e0>"
      ]
     },
     "metadata": {},
     "output_type": "display_data"
    }
   ],
   "source": [
    "fig, ax = plt.subplots(nrows=1, ncols=1,figsize=(20,10))\n",
    "ax.bar(np.arange(num_classes), avg_dice_score)\n",
    "ax.set_xlabel('Average Dice Score', fontsize=20, color='blue')        \n",
    "ax.set_xticks(np.arange(num_classes))\n",
    "c = ax.set_xticklabels(labels, fontsize=15, rotation=-90,  ha='center', color='blue')\n",
    "ax.xaxis.set_label_position('top')\n",
    "ax.tick_params(axis='y', colors='blue')\n",
    "ax.xaxis.tick_bottom()\n",
    "plt.show()"
   ]
  },
  {
   "cell_type": "markdown",
   "metadata": {},
   "source": [
    "# Test"
   ]
  },
  {
   "cell_type": "markdown",
   "metadata": {},
   "source": [
    "## 1. Load test model"
   ]
  },
  {
   "cell_type": "code",
   "execution_count": null,
   "metadata": {},
   "outputs": [],
   "source": [
    "quick_model_test = torch.load(train_params['final_model_path'], map_location=torch.device(common_params['device']))"
   ]
  },
  {
   "cell_type": "markdown",
   "metadata": {},
   "source": [
    "## 2. Predict a few sample slices"
   ]
  },
  {
   "cell_type": "code",
   "execution_count": 30,
   "metadata": {},
   "outputs": [
    {
     "data": {
      "image/png": "[encoded data removed]",
      "text/plain": [
       "<matplotlib.figure.Figure at 0x7f81ea6900f0>"
      ]
     },
     "metadata": {},
     "output_type": "display_data"
    }
   ],
   "source": [
    "with torch.no_grad():\n",
    "    test_input = torch.tensor(test_data.X[1000:1001])\n",
    "    out = quick_model_test.predict(test_input, common_params['device'])\n",
    "    \n",
    "groud_truth = test_data.y[1000:1001]\n",
    "groud_truth = np.squeeze(groud_truth)    \n",
    "\n",
    "fig, ax = plt.subplots(nrows=1, ncols=2,figsize=(20,20))\n",
    "ax[0].imshow(out, cmap ='CMRmap', vmin=0, vmax=net_params['num_class']-1)\n",
    "\n",
    "ax[0].set_title(\"Predicted\", fontsize=10, color = \"green\")\n",
    "ax[0].axis('off')\n",
    "ax[1].imshow(groud_truth, cmap ='CMRmap', vmin=0, vmax=net_params['num_class']-1)\n",
    "ax[1].set_title(\"Ground Truth\", fontsize=10, color = \"green\")\n",
    "ax[1].axis('off')\n",
    "plt.show()"
   ]
  }
 ],
 "metadata": {
  "kernelspec": {
   "display_name": "Python 3",
   "language": "python",
   "name": "python3"
  },
  "language_info": {
   "codemirror_mode": {
    "name": "ipython",
    "version": 3
   },
   "file_extension": ".py",
   "mimetype": "text/x-python",
   "name": "python",
   "nbconvert_exporter": "python",
   "pygments_lexer": "ipython3",
   "version": "3.6.3"
  }
 },
 "nbformat": 4,
 "nbformat_minor": 2
}
